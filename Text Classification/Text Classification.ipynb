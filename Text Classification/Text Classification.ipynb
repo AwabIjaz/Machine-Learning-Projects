{
 "cells": [
  {
   "cell_type": "markdown",
   "metadata": {},
   "source": [
    "## Import Libraries"
   ]
  },
  {
   "cell_type": "code",
   "execution_count": 1,
   "metadata": {},
   "outputs": [],
   "source": [
    "import re\n",
    "import string\n",
    "import scipy\n",
    "import pickle\n",
    "import pandas as pd\n",
    "import numpy as np\n",
    "from sklearn.feature_extraction.text import *\n",
    "from sklearn.preprocessing import LabelEncoder\n",
    "from sklearn.linear_model import LogisticRegression\n",
    "from sklearn.naive_bayes import BernoulliNB\n",
    "from sklearn.ensemble import RandomForestClassifier\n",
    "from sklearn.svm import LinearSVC\n",
    "from sklearn.metrics import accuracy_score\n",
    "import matplotlib.pyplot as plt\n",
    "from astropy.table import Table, Column"
   ]
  },
  {
   "cell_type": "markdown",
   "metadata": {},
   "source": [
    "## Read, Understand and Pre-process Train/Test Data\n",
    "___\n",
    "### Understand Data"
   ]
  },
  {
   "cell_type": "code",
   "execution_count": 2,
   "metadata": {},
   "outputs": [
    {
     "name": "stdout",
     "output_type": "stream",
     "text": [
      "Train Dataset:\n"
     ]
    },
    {
     "data": {
      "text/html": [
       "<div>\n",
       "<style scoped>\n",
       "    .dataframe tbody tr th:only-of-type {\n",
       "        vertical-align: middle;\n",
       "    }\n",
       "\n",
       "    .dataframe tbody tr th {\n",
       "        vertical-align: top;\n",
       "    }\n",
       "\n",
       "    .dataframe thead th {\n",
       "        text-align: right;\n",
       "    }\n",
       "</style>\n",
       "<table border=\"1\" class=\"dataframe\">\n",
       "  <thead>\n",
       "    <tr style=\"text-align: right;\">\n",
       "      <th></th>\n",
       "      <th>comment_text</th>\n",
       "      <th>gender</th>\n",
       "    </tr>\n",
       "  </thead>\n",
       "  <tbody>\n",
       "    <tr>\n",
       "      <th>0</th>\n",
       "      <td>r u cmng or u not cmng</td>\n",
       "      <td>male</td>\n",
       "    </tr>\n",
       "    <tr>\n",
       "      <th>1</th>\n",
       "      <td>r you cmng</td>\n",
       "      <td>female</td>\n",
       "    </tr>\n",
       "    <tr>\n",
       "      <th>2</th>\n",
       "      <td>I am fine, r u fine</td>\n",
       "      <td>male</td>\n",
       "    </tr>\n",
       "    <tr>\n",
       "      <th>3</th>\n",
       "      <td>m fn and you</td>\n",
       "      <td>female</td>\n",
       "    </tr>\n",
       "    <tr>\n",
       "      <th>4</th>\n",
       "      <td>my frnd is gr8, wll dn.</td>\n",
       "      <td>male</td>\n",
       "    </tr>\n",
       "    <tr>\n",
       "      <th>5</th>\n",
       "      <td>my best friend is great</td>\n",
       "      <td>female</td>\n",
       "    </tr>\n",
       "  </tbody>\n",
       "</table>\n",
       "</div>"
      ],
      "text/plain": [
       "              comment_text  gender\n",
       "0   r u cmng or u not cmng    male\n",
       "1               r you cmng  female\n",
       "2      I am fine, r u fine    male\n",
       "3             m fn and you  female\n",
       "4  my frnd is gr8, wll dn.    male\n",
       "5  my best friend is great  female"
      ]
     },
     "execution_count": 2,
     "metadata": {},
     "output_type": "execute_result"
    }
   ],
   "source": [
    "TD=pd.read_csv(\"C:\\\\Users\\\\AWAB\\\\Desktop\\\\test\\\\train.csv\")\n",
    "Train_Dataset=pd.DataFrame(TD)\n",
    " \n",
    "print(\"Train Dataset:\") \n",
    "Train_Dataset"
   ]
  },
  {
   "cell_type": "code",
   "execution_count": 3,
   "metadata": {},
   "outputs": [
    {
     "name": "stdout",
     "output_type": "stream",
     "text": [
      "Train Dataset Columns:\n",
      "Index(['comment_text', 'gender'], dtype='object')\n",
      "\n",
      "Train instances: 6\n"
     ]
    }
   ],
   "source": [
    "print(\"Train Dataset Columns:\") \n",
    "print(Train_Dataset.columns)\n",
    "print(\"\\nTrain instances:\",Train_Dataset.shape[0])"
   ]
  },
  {
   "cell_type": "code",
   "execution_count": 4,
   "metadata": {},
   "outputs": [
    {
     "name": "stdout",
     "output_type": "stream",
     "text": [
      "Test Dataset:\n"
     ]
    },
    {
     "data": {
      "text/html": [
       "<div>\n",
       "<style scoped>\n",
       "    .dataframe tbody tr th:only-of-type {\n",
       "        vertical-align: middle;\n",
       "    }\n",
       "\n",
       "    .dataframe tbody tr th {\n",
       "        vertical-align: top;\n",
       "    }\n",
       "\n",
       "    .dataframe thead th {\n",
       "        text-align: right;\n",
       "    }\n",
       "</style>\n",
       "<table border=\"1\" class=\"dataframe\">\n",
       "  <thead>\n",
       "    <tr style=\"text-align: right;\">\n",
       "      <th></th>\n",
       "      <th>comment_text</th>\n",
       "      <th>gender</th>\n",
       "    </tr>\n",
       "  </thead>\n",
       "  <tbody>\n",
       "    <tr>\n",
       "      <th>0</th>\n",
       "      <td>plz go out, plz out with with frnd</td>\n",
       "      <td>male</td>\n",
       "    </tr>\n",
       "    <tr>\n",
       "      <th>1</th>\n",
       "      <td>r u going to walk, r u?</td>\n",
       "      <td>female</td>\n",
       "    </tr>\n",
       "    <tr>\n",
       "      <th>2</th>\n",
       "      <td>r you fine</td>\n",
       "      <td>male</td>\n",
       "    </tr>\n",
       "    <tr>\n",
       "      <th>3</th>\n",
       "      <td>are you fine</td>\n",
       "      <td>female</td>\n",
       "    </tr>\n",
       "  </tbody>\n",
       "</table>\n",
       "</div>"
      ],
      "text/plain": [
       "                         comment_text  gender\n",
       "0  plz go out, plz out with with frnd    male\n",
       "1             r u going to walk, r u?  female\n",
       "2                          r you fine    male\n",
       "3                        are you fine  female"
      ]
     },
     "execution_count": 4,
     "metadata": {},
     "output_type": "execute_result"
    }
   ],
   "source": [
    "TED=pd.read_csv(\"C:\\\\Users\\\\AWAB\\\\Desktop\\\\test\\\\test.csv\")\n",
    "Test_Dataset=pd.DataFrame(TED)\n",
    " \n",
    "print(\"Test Dataset:\") \n",
    "Test_Dataset"
   ]
  },
  {
   "cell_type": "code",
   "execution_count": 5,
   "metadata": {},
   "outputs": [
    {
     "name": "stdout",
     "output_type": "stream",
     "text": [
      "Test Dataset Columns:\n",
      "Index(['comment_text', 'gender'], dtype='object')\n",
      "\n",
      "Test instances: 4\n"
     ]
    }
   ],
   "source": [
    "print(\"Test Dataset Columns:\") \n",
    "print(Test_Dataset.columns)\n",
    "print(\"\\nTest instances:\",Test_Dataset.shape[0])"
   ]
  },
  {
   "cell_type": "code",
   "execution_count": 6,
   "metadata": {},
   "outputs": [
    {
     "name": "stdout",
     "output_type": "stream",
     "text": [
      "Comments by 'Male' in Train Dataset:\n",
      "\n",
      "              comment_text gender\n",
      "0   r u cmng or u not cmng   male\n",
      "2      I am fine, r u fine   male\n",
      "4  my frnd is gr8, wll dn.   male\n",
      "\n",
      "\n",
      "Comments by 'Female' in Train Dataset:\n",
      "\n",
      "              comment_text  gender\n",
      "1               r you cmng  female\n",
      "3             m fn and you  female\n",
      "5  my best friend is great  female\n"
     ]
    }
   ],
   "source": [
    "print(\"Comments by 'Male' in Train Dataset:\\n\")\n",
    "print(Train_Dataset.loc[Train_Dataset['gender']=='male'])\n",
    "\n",
    "print(\"\\n\\nComments by 'Female' in Train Dataset:\\n\")\n",
    "print(Train_Dataset.loc[Train_Dataset['gender']=='female'])"
   ]
  },
  {
   "cell_type": "code",
   "execution_count": 7,
   "metadata": {},
   "outputs": [
    {
     "name": "stdout",
     "output_type": "stream",
     "text": [
      "Comments by 'Male' in Test Dataset:\n",
      "\n",
      "                         comment_text gender\n",
      "0  plz go out, plz out with with frnd   male\n",
      "2                          r you fine   male\n",
      "\n",
      "\n",
      "Comments by 'Female' in Test Dataset:\n",
      "\n",
      "              comment_text  gender\n",
      "1  r u going to walk, r u?  female\n",
      "3             are you fine  female\n"
     ]
    }
   ],
   "source": [
    "print(\"Comments by 'Male' in Test Dataset:\\n\")\n",
    "print(Test_Dataset.loc[Test_Dataset['gender']=='male'])\n",
    "\n",
    "print(\"\\n\\nComments by 'Female' in Test Dataset:\\n\")\n",
    "print(Test_Dataset.loc[Test_Dataset['gender']=='female'])"
   ]
  },
  {
   "cell_type": "code",
   "execution_count": 8,
   "metadata": {},
   "outputs": [
    {
     "name": "stdout",
     "output_type": "stream",
     "text": [
      "Words used by 'Male' in train data:\n",
      "\n",
      "Words\tCount\n"
     ]
    },
    {
     "data": {
      "text/plain": [
       "u        3\n",
       "r        2\n",
       "cmng     2\n",
       "fine     1\n",
       "gr8,     1\n",
       "I        1\n",
       "is       1\n",
       "wll      1\n",
       "frnd     1\n",
       "dn.      1\n",
       "am       1\n",
       "my       1\n",
       "or       1\n",
       "fine,    1\n",
       "not      1\n",
       "Name: Words, dtype: int64"
      ]
     },
     "execution_count": 8,
     "metadata": {},
     "output_type": "execute_result"
    }
   ],
   "source": [
    "def word_count(TD):\n",
    "    arr=[]\n",
    "    for i in TD['comment_text']:\n",
    "        words=i.split(\" \")\n",
    "        for x in words:\n",
    "            arr.append(x)\n",
    "    return arr\n",
    "    \n",
    "TDM = Train_Dataset[Train_Dataset['gender'] == 'male']\n",
    "        \n",
    "d1 = {'Words' : word_count(TDM)}        \n",
    "Word_Count_M = pd.DataFrame(d1)\n",
    "\n",
    "print(\"Words used by 'Male' in train data:\\n\")\n",
    "print(\"Words\\tCount\")\n",
    "Word_Count_M['Words'].value_counts()"
   ]
  },
  {
   "cell_type": "code",
   "execution_count": 9,
   "metadata": {},
   "outputs": [
    {
     "name": "stdout",
     "output_type": "stream",
     "text": [
      "Words used by 'Female' in train data:\n",
      "\n",
      "Words\tCount\n"
     ]
    },
    {
     "data": {
      "text/plain": [
       "you       2\n",
       "fn        1\n",
       "r         1\n",
       "is        1\n",
       "my        1\n",
       "friend    1\n",
       "best      1\n",
       "and       1\n",
       "m         1\n",
       "cmng      1\n",
       "great     1\n",
       "Name: Words, dtype: int64"
      ]
     },
     "execution_count": 9,
     "metadata": {},
     "output_type": "execute_result"
    }
   ],
   "source": [
    "TDF = Train_Dataset[Train_Dataset['gender'] == 'female']\n",
    "\n",
    "d2 = {'Words' : word_count(TDF)}        \n",
    "Word_Count_F = pd.DataFrame(d2)\n",
    "\n",
    "print(\"Words used by 'Female' in train data:\\n\")\n",
    "print(\"Words\\tCount\")\n",
    "Word_Count_F['Words'].value_counts()"
   ]
  },
  {
   "cell_type": "code",
   "execution_count": 10,
   "metadata": {},
   "outputs": [
    {
     "name": "stdout",
     "output_type": "stream",
     "text": [
      "Words used by 'Male' in test data:\n",
      "\n",
      "Words\tCount\n"
     ]
    },
    {
     "data": {
      "text/plain": [
       "with    2\n",
       "plz     2\n",
       "fine    1\n",
       "you     1\n",
       "out,    1\n",
       "r       1\n",
       "out     1\n",
       "go      1\n",
       "frnd    1\n",
       "Name: Words, dtype: int64"
      ]
     },
     "execution_count": 10,
     "metadata": {},
     "output_type": "execute_result"
    }
   ],
   "source": [
    "TEDM = Test_Dataset[Test_Dataset['gender'] == 'male']\n",
    "        \n",
    "d3 = {'Words' : word_count(TEDM)}        \n",
    "Word_Count_TM = pd.DataFrame(d3)\n",
    "\n",
    "print(\"Words used by 'Male' in test data:\\n\")\n",
    "print(\"Words\\tCount\")\n",
    "Word_Count_TM['Words'].value_counts()"
   ]
  },
  {
   "cell_type": "code",
   "execution_count": 11,
   "metadata": {},
   "outputs": [
    {
     "name": "stdout",
     "output_type": "stream",
     "text": [
      "Words used by 'Female' in test data:\n",
      "\n",
      "Words\tCount\n"
     ]
    },
    {
     "data": {
      "text/plain": [
       "r        2\n",
       "are      1\n",
       "you      1\n",
       "fine     1\n",
       "going    1\n",
       "u?       1\n",
       "to       1\n",
       "u        1\n",
       "walk,    1\n",
       "Name: Words, dtype: int64"
      ]
     },
     "execution_count": 11,
     "metadata": {},
     "output_type": "execute_result"
    }
   ],
   "source": [
    "TEDF = Test_Dataset[Test_Dataset['gender'] == 'female']\n",
    "        \n",
    "d4 = {'Words' : word_count(TEDF)}        \n",
    "Word_Count_TF = pd.DataFrame(d4)\n",
    "\n",
    "print(\"Words used by 'Female' in test data:\\n\")\n",
    "print(\"Words\\tCount\")\n",
    "Word_Count_TF['Words'].value_counts()"
   ]
  },
  {
   "cell_type": "code",
   "execution_count": 12,
   "metadata": {},
   "outputs": [
    {
     "name": "stdout",
     "output_type": "stream",
     "text": [
      "\n",
      "\n",
      "Bar graph of words used by a female in Train Data\n"
     ]
    },
    {
     "data": {
      "text/plain": [
       "<matplotlib.axes._subplots.AxesSubplot at 0x2c9ba547fd0>"
      ]
     },
     "execution_count": 12,
     "metadata": {},
     "output_type": "execute_result"
    },
    {
     "data": {
      "image/png": "[encoded data removed]",
      "text/plain": [
       "<Figure size 432x288 with 1 Axes>"
      ]
     },
     "metadata": {},
     "output_type": "display_data"
    }
   ],
   "source": [
    "print(\"\\n\\nBar graph of words used by a female in Train Data\")\n",
    "Word_Count_F['Words'].value_counts().plot(kind='bar')"
   ]
  },
  {
   "cell_type": "code",
   "execution_count": 13,
   "metadata": {},
   "outputs": [
    {
     "name": "stdout",
     "output_type": "stream",
     "text": [
      "\n",
      "\n",
      "Bar graph of words used by a male in Train Data\n"
     ]
    },
    {
     "data": {
      "text/plain": [
       "<matplotlib.axes._subplots.AxesSubplot at 0x2c9ba8fe0b8>"
      ]
     },
     "execution_count": 13,
     "metadata": {},
     "output_type": "execute_result"
    },
    {
     "data": {
      "image/png": "[encoded data removed]",
      "text/plain": [
       "<Figure size 432x288 with 1 Axes>"
      ]
     },
     "metadata": {},
     "output_type": "display_data"
    }
   ],
   "source": [
    "print(\"\\n\\nBar graph of words used by a male in Train Data\")\n",
    "Word_Count_M['Words'].value_counts().plot(kind='bar')"
   ]
  },
  {
   "cell_type": "code",
   "execution_count": 14,
   "metadata": {},
   "outputs": [
    {
     "name": "stdout",
     "output_type": "stream",
     "text": [
      "\n",
      "\n",
      "Bar graph of words used by a female in Test Data\n"
     ]
    },
    {
     "data": {
      "text/plain": [
       "<matplotlib.axes._subplots.AxesSubplot at 0x2c9ba99f898>"
      ]
     },
     "execution_count": 14,
     "metadata": {},
     "output_type": "execute_result"
    },
    {
     "data": {
      "image/png": "[encoded data removed]",
      "text/plain": [
       "<Figure size 432x288 with 1 Axes>"
      ]
     },
     "metadata": {},
     "output_type": "display_data"
    }
   ],
   "source": [
    "print(\"\\n\\nBar graph of words used by a female in Test Data\")\n",
    "Word_Count_TF['Words'].value_counts().plot(kind='bar')"
   ]
  },
  {
   "cell_type": "code",
   "execution_count": 15,
   "metadata": {},
   "outputs": [
    {
     "name": "stdout",
     "output_type": "stream",
     "text": [
      "\n",
      "\n",
      "Bar graph of words used by a male in Test Data\n"
     ]
    },
    {
     "data": {
      "text/plain": [
       "<matplotlib.axes._subplots.AxesSubplot at 0x2c9baa01b00>"
      ]
     },
     "execution_count": 15,
     "metadata": {},
     "output_type": "execute_result"
    },
    {
     "data": {
      "image/png": "[encoded data removed]",
      "text/plain": [
       "<Figure size 432x288 with 1 Axes>"
      ]
     },
     "metadata": {},
     "output_type": "display_data"
    }
   ],
   "source": [
    "print(\"\\n\\nBar graph of words used by a male in Test Data\")\n",
    "Word_Count_TM['Words'].value_counts().plot(kind='bar')"
   ]
  },
  {
   "cell_type": "markdown",
   "metadata": {},
   "source": [
    "___\n",
    "___\n",
    "___\n",
    "___\n",
    "___\n",
    "___\n",
    "___\n",
    "___\n",
    "___\n",
    "___\n",
    "___"
   ]
  },
  {
   "cell_type": "markdown",
   "metadata": {},
   "source": [
    "___\n",
    "___\n",
    "___\n",
    "___\n",
    "___\n",
    "___\n",
    "___\n",
    "___\n",
    "___\n",
    "___\n",
    "___"
   ]
  },
  {
   "cell_type": "markdown",
   "metadata": {},
   "source": [
    "### Pre-Process Data"
   ]
  },
  {
   "cell_type": "code",
   "execution_count": 16,
   "metadata": {},
   "outputs": [
    {
     "name": "stdout",
     "output_type": "stream",
     "text": [
      "\n",
      "\n",
      "Train dataset before pre-processing:\n",
      "\n",
      "              comment_text  gender\n",
      "0   r u cmng or u not cmng    male\n",
      "1               r you cmng  female\n",
      "2      I am fine, r u fine    male\n",
      "3             m fn and you  female\n",
      "4  my frnd is gr8, wll dn.    male\n",
      "5  my best friend is great  female\n",
      "\n",
      "\n",
      "\n",
      "\n",
      "Train dataset after pre-processing:\n",
      "\n",
      "              comment_text  gender\n",
      "0   r u cmng or u not cmng    male\n",
      "1               r you cmng  female\n",
      "2       I am fine r u fine    male\n",
      "3             m fn and you  female\n",
      "4     my frnd is gr wll dn    male\n",
      "5  my best friend is great  female\n"
     ]
    }
   ],
   "source": [
    "import string\n",
    "def pre_process(df):\n",
    "    z=0;\n",
    "    for i in df['comment_text']:\n",
    "        temp_string=re.sub(r'[^\\w\\s]','',i)\n",
    "        df['comment_text'][z]=''.join([i for i in temp_string if not i.isdigit()])\n",
    "        z=z+1\n",
    "    return df['comment_text']\n",
    "\n",
    "print(\"\\n\\nTrain dataset before pre-processing:\\n\")\n",
    "print(Train_Dataset)\n",
    "\n",
    "Train_Dataset['comment_text']=pre_process(Train_Dataset)\n",
    "\n",
    "print(\"\\n\\n\\n\\nTrain dataset after pre-processing:\\n\") \n",
    "print(Train_Dataset)"
   ]
  },
  {
   "cell_type": "code",
   "execution_count": 17,
   "metadata": {},
   "outputs": [
    {
     "name": "stdout",
     "output_type": "stream",
     "text": [
      "\n",
      "\n",
      "Test dataset before pre-processing:\n",
      "\n",
      "                         comment_text  gender\n",
      "0  plz go out, plz out with with frnd    male\n",
      "1             r u going to walk, r u?  female\n",
      "2                          r you fine    male\n",
      "3                        are you fine  female\n",
      "\n",
      "\n",
      "\n",
      "\n",
      "Test dataset after pre-processing:\n",
      "\n",
      "                        comment_text  gender\n",
      "0  plz go out plz out with with frnd    male\n",
      "1              r u going to walk r u  female\n",
      "2                         r you fine    male\n",
      "3                       are you fine  female\n"
     ]
    }
   ],
   "source": [
    "print(\"\\n\\nTest dataset before pre-processing:\\n\")\n",
    "print(Test_Dataset)\n",
    "\n",
    "Test_Dataset['comment_text']=pre_process(Test_Dataset)\n",
    "\n",
    "print(\"\\n\\n\\n\\nTest dataset after pre-processing:\\n\") \n",
    "print(Test_Dataset)"
   ]
  },
  {
   "cell_type": "markdown",
   "metadata": {},
   "source": [
    "___\n",
    "___\n",
    "___\n",
    "___\n",
    "___\n",
    "___\n",
    "___\n",
    "___\n",
    "___\n",
    "___\n",
    "___\n",
    "___\n",
    "___\n",
    "___\n",
    "___\n",
    "___\n",
    "___\n",
    "___\n",
    "___\n",
    "___\n",
    "___\n",
    "___\n",
    "___\n",
    "___"
   ]
  },
  {
   "cell_type": "markdown",
   "metadata": {},
   "source": [
    "## Label Encoding for Train/Test Data\n",
    "___"
   ]
  },
  {
   "cell_type": "code",
   "execution_count": 18,
   "metadata": {},
   "outputs": [
    {
     "name": "stdout",
     "output_type": "stream",
     "text": [
      "Train Dataset Labels Encoding:\n",
      "\n",
      "\n",
      "              comment_text  gender\n",
      "0   r u cmng or u not cmng    male\n",
      "1               r you cmng  female\n",
      "2       I am fine r u fine    male\n",
      "3             m fn and you  female\n",
      "4     my frnd is gr wll dn    male\n",
      "5  my best friend is great  female\n",
      "\n",
      "encoded_gender:\n",
      "0    1\n",
      "1    0\n",
      "2    1\n",
      "3    0\n",
      "4    1\n",
      "5    0\n",
      "Name: gender, dtype: int64\n"
     ]
    }
   ],
   "source": [
    "print(\"Train Dataset Labels Encoding:\\n\\n\")\n",
    "\n",
    "print(Train_Dataset)\n",
    "\n",
    "Train_Dataset_AL=Train_Dataset.copy()\n",
    "\n",
    "Gender_Fit=LabelEncoder().fit(Train_Dataset_AL['gender'])\n",
    "Train_Dataset_AL['gender'] = Gender_Fit.transform(Train_Dataset_AL['gender'])\n",
    "print(\"\\nencoded_gender:\")\n",
    "print(Train_Dataset_AL['gender'])"
   ]
  },
  {
   "cell_type": "code",
   "execution_count": 19,
   "metadata": {},
   "outputs": [
    {
     "name": "stdout",
     "output_type": "stream",
     "text": [
      "Test Dataset Labels Encoding:\n",
      "\n",
      "\n",
      "                        comment_text  gender\n",
      "0  plz go out plz out with with frnd    male\n",
      "1              r u going to walk r u  female\n",
      "2                         r you fine    male\n",
      "3                       are you fine  female\n",
      "\n",
      "encoded_gender:\n",
      "0    1\n",
      "1    0\n",
      "2    1\n",
      "3    0\n",
      "Name: gender, dtype: int64\n"
     ]
    }
   ],
   "source": [
    "print(\"Test Dataset Labels Encoding:\\n\\n\")\n",
    "\n",
    "print(Test_Dataset)\n",
    "\n",
    "Test_Dataset_AL=Test_Dataset.copy()\n",
    "\n",
    "Gender_Fit_Test=LabelEncoder().fit(Test_Dataset_AL['gender'])\n",
    "Test_Dataset_AL['gender'] = Gender_Fit_Test.transform(Test_Dataset_AL['gender'])\n",
    "print(\"\\nencoded_gender:\")\n",
    "print(Test_Dataset_AL['gender'])"
   ]
  },
  {
   "cell_type": "markdown",
   "metadata": {},
   "source": [
    "## Feature Extraction – Changing Representation of Data “from String to Vector”"
   ]
  },
  {
   "cell_type": "code",
   "execution_count": 20,
   "metadata": {},
   "outputs": [
    {
     "name": "stdout",
     "output_type": "stream",
     "text": [
      "Parameters of TfidfVectorizer and its values:\n",
      "\n",
      "\n",
      "CountVectorizer(analyzer='word', binary=False, decode_error='strict',\n",
      "        dtype=<class 'numpy.int64'>, encoding='utf-8', input='content',\n",
      "        lowercase=True, max_df=1.0, max_features=10, min_df=1,\n",
      "        ngram_range=(1, 1), preprocessor=None, stop_words='english',\n",
      "        strip_accents='unicode', token_pattern='\\\\w{1,}', tokenizer=None,\n",
      "        vocabulary=None)\n"
     ]
    }
   ],
   "source": [
    "vect=CountVectorizer(\n",
    "    strip_accents='unicode',\n",
    "    analyzer='word',\n",
    "    token_pattern=r'\\w{1,}',\n",
    "    stop_words='english',\n",
    "    ngram_range=(1,1),\n",
    "    max_features=10\n",
    ")\n",
    "\n",
    "print(\"Parameters of TfidfVectorizer and its values:\\n\\n\")\n",
    "print(vect)"
   ]
  },
  {
   "cell_type": "code",
   "execution_count": 21,
   "metadata": {},
   "outputs": [
    {
     "name": "stdout",
     "output_type": "stream",
     "text": [
      "Train Features' Shape: (6, 10)\n",
      "Test Features' Shape: (4, 10)\n"
     ]
    }
   ],
   "source": [
    "Combined_Temp=pd.concat([Train_Dataset_AL,Test_Dataset_AL])\n",
    "Temp_Fit = vect.fit(Combined_Temp['comment_text'])\n",
    "\n",
    "Comment_Fit = vect.transform(Train_Dataset['comment_text'])\n",
    "Feature_Names = vect.get_feature_names()\n",
    "Data = Comment_Fit.toarray()\n",
    "Train_Dataset_AL2 = pd.DataFrame(Data,columns=Feature_Names)\n",
    "print(\"Train Features' Shape:\",Train_Dataset_AL2.shape)\n",
    "\n",
    "Comment_Fit_Test = vect.transform(Test_Dataset['comment_text'])\n",
    "Feature_Names_Test = vect.get_feature_names()\n",
    "Data_Test = Comment_Fit_Test.toarray()\n",
    "Test_Dataset_AL2 = pd.DataFrame(Data_Test,columns=Feature_Names_Test)\n",
    "print(\"Test Features' Shape:\",Test_Dataset_AL2.shape)"
   ]
  },
  {
   "cell_type": "code",
   "execution_count": 22,
   "metadata": {},
   "outputs": [
    {
     "name": "stdout",
     "output_type": "stream",
     "text": [
      "Train Features Before Assigning a 'gender' Column:\n"
     ]
    },
    {
     "data": {
      "text/html": [
       "<div>\n",
       "<style scoped>\n",
       "    .dataframe tbody tr th:only-of-type {\n",
       "        vertical-align: middle;\n",
       "    }\n",
       "\n",
       "    .dataframe tbody tr th {\n",
       "        vertical-align: top;\n",
       "    }\n",
       "\n",
       "    .dataframe thead th {\n",
       "        text-align: right;\n",
       "    }\n",
       "</style>\n",
       "<table border=\"1\" class=\"dataframe\">\n",
       "  <thead>\n",
       "    <tr style=\"text-align: right;\">\n",
       "      <th></th>\n",
       "      <th>best</th>\n",
       "      <th>cmng</th>\n",
       "      <th>dn</th>\n",
       "      <th>fine</th>\n",
       "      <th>fn</th>\n",
       "      <th>friend</th>\n",
       "      <th>frnd</th>\n",
       "      <th>plz</th>\n",
       "      <th>r</th>\n",
       "      <th>u</th>\n",
       "    </tr>\n",
       "  </thead>\n",
       "  <tbody>\n",
       "    <tr>\n",
       "      <th>0</th>\n",
       "      <td>0</td>\n",
       "      <td>2</td>\n",
       "      <td>0</td>\n",
       "      <td>0</td>\n",
       "      <td>0</td>\n",
       "      <td>0</td>\n",
       "      <td>0</td>\n",
       "      <td>0</td>\n",
       "      <td>1</td>\n",
       "      <td>2</td>\n",
       "    </tr>\n",
       "    <tr>\n",
       "      <th>1</th>\n",
       "      <td>0</td>\n",
       "      <td>1</td>\n",
       "      <td>0</td>\n",
       "      <td>0</td>\n",
       "      <td>0</td>\n",
       "      <td>0</td>\n",
       "      <td>0</td>\n",
       "      <td>0</td>\n",
       "      <td>1</td>\n",
       "      <td>0</td>\n",
       "    </tr>\n",
       "    <tr>\n",
       "      <th>2</th>\n",
       "      <td>0</td>\n",
       "      <td>0</td>\n",
       "      <td>0</td>\n",
       "      <td>2</td>\n",
       "      <td>0</td>\n",
       "      <td>0</td>\n",
       "      <td>0</td>\n",
       "      <td>0</td>\n",
       "      <td>1</td>\n",
       "      <td>1</td>\n",
       "    </tr>\n",
       "    <tr>\n",
       "      <th>3</th>\n",
       "      <td>0</td>\n",
       "      <td>0</td>\n",
       "      <td>0</td>\n",
       "      <td>0</td>\n",
       "      <td>1</td>\n",
       "      <td>0</td>\n",
       "      <td>0</td>\n",
       "      <td>0</td>\n",
       "      <td>0</td>\n",
       "      <td>0</td>\n",
       "    </tr>\n",
       "    <tr>\n",
       "      <th>4</th>\n",
       "      <td>0</td>\n",
       "      <td>0</td>\n",
       "      <td>1</td>\n",
       "      <td>0</td>\n",
       "      <td>0</td>\n",
       "      <td>0</td>\n",
       "      <td>1</td>\n",
       "      <td>0</td>\n",
       "      <td>0</td>\n",
       "      <td>0</td>\n",
       "    </tr>\n",
       "    <tr>\n",
       "      <th>5</th>\n",
       "      <td>1</td>\n",
       "      <td>0</td>\n",
       "      <td>0</td>\n",
       "      <td>0</td>\n",
       "      <td>0</td>\n",
       "      <td>1</td>\n",
       "      <td>0</td>\n",
       "      <td>0</td>\n",
       "      <td>0</td>\n",
       "      <td>0</td>\n",
       "    </tr>\n",
       "  </tbody>\n",
       "</table>\n",
       "</div>"
      ],
      "text/plain": [
       "   best  cmng  dn  fine  fn  friend  frnd  plz  r  u\n",
       "0     0     2   0     0   0       0     0    0  1  2\n",
       "1     0     1   0     0   0       0     0    0  1  0\n",
       "2     0     0   0     2   0       0     0    0  1  1\n",
       "3     0     0   0     0   1       0     0    0  0  0\n",
       "4     0     0   1     0   0       0     1    0  0  0\n",
       "5     1     0   0     0   0       1     0    0  0  0"
      ]
     },
     "execution_count": 22,
     "metadata": {},
     "output_type": "execute_result"
    }
   ],
   "source": [
    "print(\"Train Features Before Assigning a 'gender' Column:\")\n",
    "Train_Dataset_AL2"
   ]
  },
  {
   "cell_type": "code",
   "execution_count": 23,
   "metadata": {},
   "outputs": [
    {
     "name": "stdout",
     "output_type": "stream",
     "text": [
      "Test Features Before Assigning a 'gender' Column:\n"
     ]
    },
    {
     "data": {
      "text/html": [
       "<div>\n",
       "<style scoped>\n",
       "    .dataframe tbody tr th:only-of-type {\n",
       "        vertical-align: middle;\n",
       "    }\n",
       "\n",
       "    .dataframe tbody tr th {\n",
       "        vertical-align: top;\n",
       "    }\n",
       "\n",
       "    .dataframe thead th {\n",
       "        text-align: right;\n",
       "    }\n",
       "</style>\n",
       "<table border=\"1\" class=\"dataframe\">\n",
       "  <thead>\n",
       "    <tr style=\"text-align: right;\">\n",
       "      <th></th>\n",
       "      <th>best</th>\n",
       "      <th>cmng</th>\n",
       "      <th>dn</th>\n",
       "      <th>fine</th>\n",
       "      <th>fn</th>\n",
       "      <th>friend</th>\n",
       "      <th>frnd</th>\n",
       "      <th>plz</th>\n",
       "      <th>r</th>\n",
       "      <th>u</th>\n",
       "    </tr>\n",
       "  </thead>\n",
       "  <tbody>\n",
       "    <tr>\n",
       "      <th>0</th>\n",
       "      <td>0</td>\n",
       "      <td>0</td>\n",
       "      <td>0</td>\n",
       "      <td>0</td>\n",
       "      <td>0</td>\n",
       "      <td>0</td>\n",
       "      <td>1</td>\n",
       "      <td>2</td>\n",
       "      <td>0</td>\n",
       "      <td>0</td>\n",
       "    </tr>\n",
       "    <tr>\n",
       "      <th>1</th>\n",
       "      <td>0</td>\n",
       "      <td>0</td>\n",
       "      <td>0</td>\n",
       "      <td>0</td>\n",
       "      <td>0</td>\n",
       "      <td>0</td>\n",
       "      <td>0</td>\n",
       "      <td>0</td>\n",
       "      <td>2</td>\n",
       "      <td>2</td>\n",
       "    </tr>\n",
       "    <tr>\n",
       "      <th>2</th>\n",
       "      <td>0</td>\n",
       "      <td>0</td>\n",
       "      <td>0</td>\n",
       "      <td>1</td>\n",
       "      <td>0</td>\n",
       "      <td>0</td>\n",
       "      <td>0</td>\n",
       "      <td>0</td>\n",
       "      <td>1</td>\n",
       "      <td>0</td>\n",
       "    </tr>\n",
       "    <tr>\n",
       "      <th>3</th>\n",
       "      <td>0</td>\n",
       "      <td>0</td>\n",
       "      <td>0</td>\n",
       "      <td>1</td>\n",
       "      <td>0</td>\n",
       "      <td>0</td>\n",
       "      <td>0</td>\n",
       "      <td>0</td>\n",
       "      <td>0</td>\n",
       "      <td>0</td>\n",
       "    </tr>\n",
       "  </tbody>\n",
       "</table>\n",
       "</div>"
      ],
      "text/plain": [
       "   best  cmng  dn  fine  fn  friend  frnd  plz  r  u\n",
       "0     0     0   0     0   0       0     1    2  0  0\n",
       "1     0     0   0     0   0       0     0    0  2  2\n",
       "2     0     0   0     1   0       0     0    0  1  0\n",
       "3     0     0   0     1   0       0     0    0  0  0"
      ]
     },
     "execution_count": 23,
     "metadata": {},
     "output_type": "execute_result"
    }
   ],
   "source": [
    "print(\"Test Features Before Assigning a 'gender' Column:\")\n",
    "Test_Dataset_AL2"
   ]
  },
  {
   "cell_type": "code",
   "execution_count": 24,
   "metadata": {},
   "outputs": [
    {
     "name": "stdout",
     "output_type": "stream",
     "text": [
      "Train Features after Assigning a 'gender' Column:\n"
     ]
    },
    {
     "data": {
      "text/html": [
       "<div>\n",
       "<style scoped>\n",
       "    .dataframe tbody tr th:only-of-type {\n",
       "        vertical-align: middle;\n",
       "    }\n",
       "\n",
       "    .dataframe tbody tr th {\n",
       "        vertical-align: top;\n",
       "    }\n",
       "\n",
       "    .dataframe thead th {\n",
       "        text-align: right;\n",
       "    }\n",
       "</style>\n",
       "<table border=\"1\" class=\"dataframe\">\n",
       "  <thead>\n",
       "    <tr style=\"text-align: right;\">\n",
       "      <th></th>\n",
       "      <th>best</th>\n",
       "      <th>cmng</th>\n",
       "      <th>dn</th>\n",
       "      <th>fine</th>\n",
       "      <th>fn</th>\n",
       "      <th>friend</th>\n",
       "      <th>frnd</th>\n",
       "      <th>plz</th>\n",
       "      <th>r</th>\n",
       "      <th>u</th>\n",
       "      <th>gender</th>\n",
       "    </tr>\n",
       "  </thead>\n",
       "  <tbody>\n",
       "    <tr>\n",
       "      <th>0</th>\n",
       "      <td>0</td>\n",
       "      <td>2</td>\n",
       "      <td>0</td>\n",
       "      <td>0</td>\n",
       "      <td>0</td>\n",
       "      <td>0</td>\n",
       "      <td>0</td>\n",
       "      <td>0</td>\n",
       "      <td>1</td>\n",
       "      <td>2</td>\n",
       "      <td>1</td>\n",
       "    </tr>\n",
       "    <tr>\n",
       "      <th>1</th>\n",
       "      <td>0</td>\n",
       "      <td>1</td>\n",
       "      <td>0</td>\n",
       "      <td>0</td>\n",
       "      <td>0</td>\n",
       "      <td>0</td>\n",
       "      <td>0</td>\n",
       "      <td>0</td>\n",
       "      <td>1</td>\n",
       "      <td>0</td>\n",
       "      <td>0</td>\n",
       "    </tr>\n",
       "    <tr>\n",
       "      <th>2</th>\n",
       "      <td>0</td>\n",
       "      <td>0</td>\n",
       "      <td>0</td>\n",
       "      <td>2</td>\n",
       "      <td>0</td>\n",
       "      <td>0</td>\n",
       "      <td>0</td>\n",
       "      <td>0</td>\n",
       "      <td>1</td>\n",
       "      <td>1</td>\n",
       "      <td>1</td>\n",
       "    </tr>\n",
       "    <tr>\n",
       "      <th>3</th>\n",
       "      <td>0</td>\n",
       "      <td>0</td>\n",
       "      <td>0</td>\n",
       "      <td>0</td>\n",
       "      <td>1</td>\n",
       "      <td>0</td>\n",
       "      <td>0</td>\n",
       "      <td>0</td>\n",
       "      <td>0</td>\n",
       "      <td>0</td>\n",
       "      <td>0</td>\n",
       "    </tr>\n",
       "    <tr>\n",
       "      <th>4</th>\n",
       "      <td>0</td>\n",
       "      <td>0</td>\n",
       "      <td>1</td>\n",
       "      <td>0</td>\n",
       "      <td>0</td>\n",
       "      <td>0</td>\n",
       "      <td>1</td>\n",
       "      <td>0</td>\n",
       "      <td>0</td>\n",
       "      <td>0</td>\n",
       "      <td>1</td>\n",
       "    </tr>\n",
       "    <tr>\n",
       "      <th>5</th>\n",
       "      <td>1</td>\n",
       "      <td>0</td>\n",
       "      <td>0</td>\n",
       "      <td>0</td>\n",
       "      <td>0</td>\n",
       "      <td>1</td>\n",
       "      <td>0</td>\n",
       "      <td>0</td>\n",
       "      <td>0</td>\n",
       "      <td>0</td>\n",
       "      <td>0</td>\n",
       "    </tr>\n",
       "  </tbody>\n",
       "</table>\n",
       "</div>"
      ],
      "text/plain": [
       "   best  cmng  dn  fine  fn  friend  frnd  plz  r  u  gender\n",
       "0     0     2   0     0   0       0     0    0  1  2       1\n",
       "1     0     1   0     0   0       0     0    0  1  0       0\n",
       "2     0     0   0     2   0       0     0    0  1  1       1\n",
       "3     0     0   0     0   1       0     0    0  0  0       0\n",
       "4     0     0   1     0   0       0     1    0  0  0       1\n",
       "5     1     0   0     0   0       1     0    0  0  0       0"
      ]
     },
     "execution_count": 24,
     "metadata": {},
     "output_type": "execute_result"
    }
   ],
   "source": [
    "print(\"Train Features after Assigning a 'gender' Column:\")\n",
    "Train_Dataset_AL3 = pd.concat([Train_Dataset_AL2,Train_Dataset_AL['gender']], axis=1)\n",
    "Train_Dataset_AL3"
   ]
  },
  {
   "cell_type": "code",
   "execution_count": 25,
   "metadata": {},
   "outputs": [
    {
     "name": "stdout",
     "output_type": "stream",
     "text": [
      "Test Features after Assigning a 'gender' Column:\n"
     ]
    },
    {
     "data": {
      "text/html": [
       "<div>\n",
       "<style scoped>\n",
       "    .dataframe tbody tr th:only-of-type {\n",
       "        vertical-align: middle;\n",
       "    }\n",
       "\n",
       "    .dataframe tbody tr th {\n",
       "        vertical-align: top;\n",
       "    }\n",
       "\n",
       "    .dataframe thead th {\n",
       "        text-align: right;\n",
       "    }\n",
       "</style>\n",
       "<table border=\"1\" class=\"dataframe\">\n",
       "  <thead>\n",
       "    <tr style=\"text-align: right;\">\n",
       "      <th></th>\n",
       "      <th>best</th>\n",
       "      <th>cmng</th>\n",
       "      <th>dn</th>\n",
       "      <th>fine</th>\n",
       "      <th>fn</th>\n",
       "      <th>friend</th>\n",
       "      <th>frnd</th>\n",
       "      <th>plz</th>\n",
       "      <th>r</th>\n",
       "      <th>u</th>\n",
       "      <th>gender</th>\n",
       "    </tr>\n",
       "  </thead>\n",
       "  <tbody>\n",
       "    <tr>\n",
       "      <th>0</th>\n",
       "      <td>0</td>\n",
       "      <td>0</td>\n",
       "      <td>0</td>\n",
       "      <td>0</td>\n",
       "      <td>0</td>\n",
       "      <td>0</td>\n",
       "      <td>1</td>\n",
       "      <td>2</td>\n",
       "      <td>0</td>\n",
       "      <td>0</td>\n",
       "      <td>1</td>\n",
       "    </tr>\n",
       "    <tr>\n",
       "      <th>1</th>\n",
       "      <td>0</td>\n",
       "      <td>0</td>\n",
       "      <td>0</td>\n",
       "      <td>0</td>\n",
       "      <td>0</td>\n",
       "      <td>0</td>\n",
       "      <td>0</td>\n",
       "      <td>0</td>\n",
       "      <td>2</td>\n",
       "      <td>2</td>\n",
       "      <td>0</td>\n",
       "    </tr>\n",
       "    <tr>\n",
       "      <th>2</th>\n",
       "      <td>0</td>\n",
       "      <td>0</td>\n",
       "      <td>0</td>\n",
       "      <td>1</td>\n",
       "      <td>0</td>\n",
       "      <td>0</td>\n",
       "      <td>0</td>\n",
       "      <td>0</td>\n",
       "      <td>1</td>\n",
       "      <td>0</td>\n",
       "      <td>1</td>\n",
       "    </tr>\n",
       "    <tr>\n",
       "      <th>3</th>\n",
       "      <td>0</td>\n",
       "      <td>0</td>\n",
       "      <td>0</td>\n",
       "      <td>1</td>\n",
       "      <td>0</td>\n",
       "      <td>0</td>\n",
       "      <td>0</td>\n",
       "      <td>0</td>\n",
       "      <td>0</td>\n",
       "      <td>0</td>\n",
       "      <td>0</td>\n",
       "    </tr>\n",
       "  </tbody>\n",
       "</table>\n",
       "</div>"
      ],
      "text/plain": [
       "   best  cmng  dn  fine  fn  friend  frnd  plz  r  u  gender\n",
       "0     0     0   0     0   0       0     1    2  0  0       1\n",
       "1     0     0   0     0   0       0     0    0  2  2       0\n",
       "2     0     0   0     1   0       0     0    0  1  0       1\n",
       "3     0     0   0     1   0       0     0    0  0  0       0"
      ]
     },
     "execution_count": 25,
     "metadata": {},
     "output_type": "execute_result"
    }
   ],
   "source": [
    "print(\"Test Features after Assigning a 'gender' Column:\")\n",
    "Test_Dataset_AL3 = pd.concat([Test_Dataset_AL2,Test_Dataset_AL['gender']], axis=1)\n",
    "Test_Dataset_AL3"
   ]
  },
  {
   "cell_type": "code",
   "execution_count": 26,
   "metadata": {},
   "outputs": [
    {
     "name": "stdout",
     "output_type": "stream",
     "text": [
      "Train Features' Shape: (6, 11)\n",
      "Test Features' Shape: (4, 11)\n"
     ]
    }
   ],
   "source": [
    "print(\"Train Features' Shape:\",Train_Dataset_AL3.shape)\n",
    "print(\"Test Features' Shape:\",Test_Dataset_AL3.shape)"
   ]
  },
  {
   "cell_type": "markdown",
   "metadata": {},
   "source": [
    "___\n",
    "___\n",
    "___\n",
    "___\n",
    "___\n",
    "___\n",
    "___\n",
    "___\n",
    "___"
   ]
  },
  {
   "cell_type": "markdown",
   "metadata": {},
   "source": [
    "## Train ML Algorithms using Train Data\n",
    "___"
   ]
  },
  {
   "cell_type": "code",
   "execution_count": 27,
   "metadata": {},
   "outputs": [],
   "source": [
    "TrainX=Train_Dataset_AL3[['best','cmng','dn','fine','fn','friend','frnd','plz','r','u']] \n",
    "TrainY=Train_Dataset_AL3[['gender']]\n",
    "\n",
    "TestX=Test_Dataset_AL3[['best','cmng','dn','fine','fn','friend','frnd','plz','r','u']]  \n",
    "TestY=Test_Dataset_AL3[['gender']]"
   ]
  },
  {
   "cell_type": "code",
   "execution_count": 28,
   "metadata": {},
   "outputs": [
    {
     "name": "stdout",
     "output_type": "stream",
     "text": [
      "\t\t\tLogistic Regression:\n",
      "\n",
      "Parameters and their values:\n",
      "\n"
     ]
    },
    {
     "data": {
      "text/plain": [
       "LogisticRegression(C=1.0, class_weight=None, dual=False, fit_intercept=True,\n",
       "          intercept_scaling=1, max_iter=100, multi_class='ovr', n_jobs=1,\n",
       "          penalty='l2', random_state=None, solver='liblinear', tol=0.0001,\n",
       "          verbose=0, warm_start=False)"
      ]
     },
     "execution_count": 28,
     "metadata": {},
     "output_type": "execute_result"
    }
   ],
   "source": [
    "print(\"\\t\\t\\tLogistic Regression:\\n\\nParameters and their values:\\n\")\n",
    "lr=LogisticRegression()\n",
    "lr.fit(TrainX, TrainY.values.ravel())"
   ]
  },
  {
   "cell_type": "code",
   "execution_count": 30,
   "metadata": {},
   "outputs": [
    {
     "name": "stdout",
     "output_type": "stream",
     "text": [
      "\t\t\tRandom Forest Classifier:\n",
      "\n",
      "Parameters and their values:\n",
      "\n"
     ]
    },
    {
     "data": {
      "text/plain": [
       "RandomForestClassifier(bootstrap=True, class_weight=None, criterion='gini',\n",
       "            max_depth=None, max_features='auto', max_leaf_nodes=None,\n",
       "            min_impurity_decrease=0.0, min_impurity_split=None,\n",
       "            min_samples_leaf=1, min_samples_split=2,\n",
       "            min_weight_fraction_leaf=0.0, n_estimators=10, n_jobs=1,\n",
       "            oob_score=False, random_state=None, verbose=0,\n",
       "            warm_start=False)"
      ]
     },
     "execution_count": 30,
     "metadata": {},
     "output_type": "execute_result"
    }
   ],
   "source": [
    "print(\"\\t\\t\\tRandom Forest Classifier:\\n\\nParameters and their values:\\n\")\n",
    "rfc=RandomForestClassifier()\n",
    "rfc.fit(TrainX, TrainY.values.ravel())"
   ]
  },
  {
   "cell_type": "code",
   "execution_count": 32,
   "metadata": {},
   "outputs": [
    {
     "name": "stdout",
     "output_type": "stream",
     "text": [
      "\t\t\tLinear SVC:\n",
      "\n",
      "Parameters and their values:\n",
      "\n"
     ]
    },
    {
     "data": {
      "text/plain": [
       "LinearSVC(C=1.0, class_weight=None, dual=True, fit_intercept=True,\n",
       "     intercept_scaling=1, loss='squared_hinge', max_iter=1000,\n",
       "     multi_class='ovr', penalty='l2', random_state=None, tol=0.0001,\n",
       "     verbose=0)"
      ]
     },
     "execution_count": 32,
     "metadata": {},
     "output_type": "execute_result"
    }
   ],
   "source": [
    "print(\"\\t\\t\\tLinear SVC:\\n\\nParameters and their values:\\n\")\n",
    "lsvc=LinearSVC()\n",
    "lsvc.fit(TrainX, TrainY.values.ravel())"
   ]
  },
  {
   "cell_type": "code",
   "execution_count": 34,
   "metadata": {},
   "outputs": [
    {
     "name": "stdout",
     "output_type": "stream",
     "text": [
      "\t\t\tBernoulli NB:\n",
      "\n",
      "Parameters and their values:\n",
      "\n"
     ]
    },
    {
     "data": {
      "text/plain": [
       "BernoulliNB(alpha=1.0, binarize=0.0, class_prior=None, fit_prior=True)"
      ]
     },
     "execution_count": 34,
     "metadata": {},
     "output_type": "execute_result"
    }
   ],
   "source": [
    "print(\"\\t\\t\\tBernoulli NB:\\n\\nParameters and their values:\\n\")\n",
    "bnb=BernoulliNB()\n",
    "bnb.fit(TrainX, TrainY.values.ravel())"
   ]
  },
  {
   "cell_type": "markdown",
   "metadata": {},
   "source": [
    "___\n",
    "___\n",
    "___\n",
    "___\n",
    "___\n",
    "___\n",
    "___\n",
    "___\n",
    "___\n",
    "___\n",
    "___\n",
    "___\n",
    "___\n",
    "___\n",
    "___\n",
    "___\n",
    "___\n",
    "___\n",
    "___\n",
    "___\n",
    "___\n",
    "___\n",
    "___\n",
    "___"
   ]
  },
  {
   "cell_type": "markdown",
   "metadata": {},
   "source": [
    "## Evaluate ML Algorithms using Test Data\n",
    "___"
   ]
  },
  {
   "cell_type": "code",
   "execution_count": 47,
   "metadata": {},
   "outputs": [
    {
     "name": "stdout",
     "output_type": "stream",
     "text": [
      "Prediction using LogisticRegression:\n",
      "\n",
      "\n",
      "                        comment_text  gender\n",
      "0  plz go out plz out with with frnd    male\n",
      "1              r u going to walk r u  female\n",
      "2                         r you fine    male\n",
      "3                       are you fine  female\n",
      "\n",
      "\n",
      "predicted_gender:\n",
      "\n",
      "['male' 'male' 'male' 'male']\n",
      "\n",
      "\n",
      "Accuracy score = 0.5\n"
     ]
    }
   ],
   "source": [
    "print(\"Prediction using LogisticRegression:\\n\\n\")\n",
    "Lr_Prediction=lr.predict(TestX)\n",
    "\n",
    "print(Test_Dataset)\n",
    "print(\"\\n\\npredicted_gender:\\n\")\n",
    "print(Gender_Fit_Test.inverse_transform(Lr_Prediction))\n",
    "\n",
    "Lr_AS=lr.score(TestX,TestY)\n",
    "print(\"\\n\\nAccuracy score =\",Lr_AS)"
   ]
  },
  {
   "cell_type": "code",
   "execution_count": 31,
   "metadata": {},
   "outputs": [
    {
     "name": "stdout",
     "output_type": "stream",
     "text": [
      "Prediction using RandomForestClassifier:\n",
      "\n",
      "\n",
      "                        comment_text  gender\n",
      "0  plz go out plz out with with frnd    male\n",
      "1              r u going to walk r u  female\n",
      "2                         r you fine    male\n",
      "3                       are you fine  female\n",
      "\n",
      "\n",
      "predicted_gender:\n",
      "\n",
      "['male' 'male' 'male' 'female']\n",
      "\n",
      "\n",
      "Accuracy score = 0.75\n"
     ]
    }
   ],
   "source": [
    "print(\"Prediction using RandomForestClassifier:\\n\\n\")\n",
    "Rfc_Prediction=rfc.predict(TestX)\n",
    "\n",
    "print(Test_Dataset)\n",
    "print(\"\\n\\npredicted_gender:\\n\")\n",
    "print(Gender_Fit_Test.inverse_transform(Rfc_Prediction))\n",
    "\n",
    "Rfc_AS=rfc.score(TestX,TestY)\n",
    "print(\"\\n\\nAccuracy score =\",Rfc_AS)"
   ]
  },
  {
   "cell_type": "code",
   "execution_count": 33,
   "metadata": {},
   "outputs": [
    {
     "name": "stdout",
     "output_type": "stream",
     "text": [
      "Prediction using LinearSVC:\n",
      "\n",
      "\n",
      "                        comment_text  gender\n",
      "0  plz go out plz out with with frnd    male\n",
      "1              r u going to walk r u  female\n",
      "2                         r you fine    male\n",
      "3                       are you fine  female\n",
      "\n",
      "\n",
      "predicted_gender:\n",
      "\n",
      "['male' 'male' 'female' 'female']\n",
      "\n",
      "\n",
      "Accuracy score = 0.5\n"
     ]
    }
   ],
   "source": [
    "print(\"Prediction using LinearSVC:\\n\\n\")\n",
    "Lsvc_Prediction=lsvc.predict(TestX)\n",
    "\n",
    "print(Test_Dataset)\n",
    "print(\"\\n\\npredicted_gender:\\n\")\n",
    "print(Gender_Fit_Test.inverse_transform(Lsvc_Prediction))\n",
    "\n",
    "Lsvc_AS=lsvc.score(TestX,TestY)\n",
    "print(\"\\n\\nAccuracy score =\",Lsvc_AS)"
   ]
  },
  {
   "cell_type": "code",
   "execution_count": 35,
   "metadata": {},
   "outputs": [
    {
     "name": "stdout",
     "output_type": "stream",
     "text": [
      "Prediction using BernoulliNB:\n",
      "\n",
      "\n",
      "                        comment_text  gender\n",
      "0  plz go out plz out with with frnd    male\n",
      "1              r u going to walk r u  female\n",
      "2                         r you fine    male\n",
      "3                       are you fine  female\n",
      "\n",
      "\n",
      "predicted_gender:\n",
      "\n",
      "['female' 'male' 'male' 'female']\n",
      "\n",
      "\n",
      "Accuracy score = 0.5\n"
     ]
    }
   ],
   "source": [
    "print(\"Prediction using BernoulliNB:\\n\\n\")\n",
    "Bnb_Prediction=bnb.predict(TestX)\n",
    "\n",
    "print(Test_Dataset)\n",
    "print(\"\\n\\npredicted_gender:\\n\")\n",
    "print(Gender_Fit_Test.inverse_transform(Bnb_Prediction))\n",
    "\n",
    "Bnb_AS=bnb.score(TestX,TestY)\n",
    "print(\"\\n\\nAccuracy score =\",Bnb_AS)"
   ]
  },
  {
   "cell_type": "markdown",
   "metadata": {},
   "source": [
    "___\n",
    "___"
   ]
  },
  {
   "cell_type": "markdown",
   "metadata": {},
   "source": [
    "## Selection of Best Model\n",
    "___"
   ]
  },
  {
   "cell_type": "code",
   "execution_count": 36,
   "metadata": {},
   "outputs": [
    {
     "name": "stdout",
     "output_type": "stream",
     "text": [
      "Detailed Performance of all the models:\n",
      "\n",
      "        Model          Accuracy\n",
      "---------------------- --------\n",
      "    LogisticRegression      0.5\n",
      "RandomForestClassifier     0.75\n",
      "             LinearSVC      0.5\n",
      "           BernoulliNB      0.5\n"
     ]
    }
   ],
   "source": [
    "DR=[('LogisticRegression',Lr_AS),('RandomForestClassifier',Rfc_AS),\n",
    "   ('LinearSVC',Lsvc_AS),('BernoulliNB',Bnb_AS),]\n",
    "t = Table(rows=DR, names=('Model', 'Accuracy'))\n",
    "print(\"Detailed Performance of all the models:\\n\")\n",
    "print(t)"
   ]
  },
  {
   "cell_type": "code",
   "execution_count": 37,
   "metadata": {},
   "outputs": [
    {
     "name": "stdout",
     "output_type": "stream",
     "text": [
      "Best Model:\n",
      "\n",
      "        Model          Accuracy\n",
      "---------------------- --------\n",
      "RandomForestClassifier     0.75\n"
     ]
    }
   ],
   "source": [
    "BM_Arr={'LogisticRegression':Lr_AS,'RandomForestClassifier':Rfc_AS,\n",
    "        'LinearSVC':Lsvc_AS,'BernoulliNB':Bnb_AS}\n",
    "\n",
    "import operator\n",
    "Best_Model = max(BM_Arr.items(), key=operator.itemgetter(1))[0]\n",
    "\n",
    "t2 = Table(rows=[(Best_Model,BM_Arr[Best_Model])], names=('Model', 'Accuracy'))\n",
    "print(\"Best Model:\\n\")\n",
    "print (t2)"
   ]
  },
  {
   "cell_type": "markdown",
   "metadata": {},
   "source": [
    "___"
   ]
  },
  {
   "cell_type": "markdown",
   "metadata": {},
   "source": [
    "## Application Phase\n",
    "___\n",
    "\n",
    "### Combine Data(Train+Test)"
   ]
  },
  {
   "cell_type": "code",
   "execution_count": 38,
   "metadata": {},
   "outputs": [
    {
     "name": "stdout",
     "output_type": "stream",
     "text": [
      "All Features in form of DataFrame:\n",
      "\n"
     ]
    },
    {
     "data": {
      "text/html": [
       "<div>\n",
       "<style scoped>\n",
       "    .dataframe tbody tr th:only-of-type {\n",
       "        vertical-align: middle;\n",
       "    }\n",
       "\n",
       "    .dataframe tbody tr th {\n",
       "        vertical-align: top;\n",
       "    }\n",
       "\n",
       "    .dataframe thead th {\n",
       "        text-align: right;\n",
       "    }\n",
       "</style>\n",
       "<table border=\"1\" class=\"dataframe\">\n",
       "  <thead>\n",
       "    <tr style=\"text-align: right;\">\n",
       "      <th></th>\n",
       "      <th>best</th>\n",
       "      <th>cmng</th>\n",
       "      <th>dn</th>\n",
       "      <th>fine</th>\n",
       "      <th>fn</th>\n",
       "      <th>friend</th>\n",
       "      <th>frnd</th>\n",
       "      <th>plz</th>\n",
       "      <th>r</th>\n",
       "      <th>u</th>\n",
       "      <th>gender</th>\n",
       "    </tr>\n",
       "  </thead>\n",
       "  <tbody>\n",
       "    <tr>\n",
       "      <th>0</th>\n",
       "      <td>0</td>\n",
       "      <td>2</td>\n",
       "      <td>0</td>\n",
       "      <td>0</td>\n",
       "      <td>0</td>\n",
       "      <td>0</td>\n",
       "      <td>0</td>\n",
       "      <td>0</td>\n",
       "      <td>1</td>\n",
       "      <td>2</td>\n",
       "      <td>1</td>\n",
       "    </tr>\n",
       "    <tr>\n",
       "      <th>1</th>\n",
       "      <td>0</td>\n",
       "      <td>1</td>\n",
       "      <td>0</td>\n",
       "      <td>0</td>\n",
       "      <td>0</td>\n",
       "      <td>0</td>\n",
       "      <td>0</td>\n",
       "      <td>0</td>\n",
       "      <td>1</td>\n",
       "      <td>0</td>\n",
       "      <td>0</td>\n",
       "    </tr>\n",
       "    <tr>\n",
       "      <th>2</th>\n",
       "      <td>0</td>\n",
       "      <td>0</td>\n",
       "      <td>0</td>\n",
       "      <td>2</td>\n",
       "      <td>0</td>\n",
       "      <td>0</td>\n",
       "      <td>0</td>\n",
       "      <td>0</td>\n",
       "      <td>1</td>\n",
       "      <td>1</td>\n",
       "      <td>1</td>\n",
       "    </tr>\n",
       "    <tr>\n",
       "      <th>3</th>\n",
       "      <td>0</td>\n",
       "      <td>0</td>\n",
       "      <td>0</td>\n",
       "      <td>0</td>\n",
       "      <td>1</td>\n",
       "      <td>0</td>\n",
       "      <td>0</td>\n",
       "      <td>0</td>\n",
       "      <td>0</td>\n",
       "      <td>0</td>\n",
       "      <td>0</td>\n",
       "    </tr>\n",
       "    <tr>\n",
       "      <th>4</th>\n",
       "      <td>0</td>\n",
       "      <td>0</td>\n",
       "      <td>1</td>\n",
       "      <td>0</td>\n",
       "      <td>0</td>\n",
       "      <td>0</td>\n",
       "      <td>1</td>\n",
       "      <td>0</td>\n",
       "      <td>0</td>\n",
       "      <td>0</td>\n",
       "      <td>1</td>\n",
       "    </tr>\n",
       "    <tr>\n",
       "      <th>5</th>\n",
       "      <td>1</td>\n",
       "      <td>0</td>\n",
       "      <td>0</td>\n",
       "      <td>0</td>\n",
       "      <td>0</td>\n",
       "      <td>1</td>\n",
       "      <td>0</td>\n",
       "      <td>0</td>\n",
       "      <td>0</td>\n",
       "      <td>0</td>\n",
       "      <td>0</td>\n",
       "    </tr>\n",
       "    <tr>\n",
       "      <th>0</th>\n",
       "      <td>0</td>\n",
       "      <td>0</td>\n",
       "      <td>0</td>\n",
       "      <td>0</td>\n",
       "      <td>0</td>\n",
       "      <td>0</td>\n",
       "      <td>1</td>\n",
       "      <td>2</td>\n",
       "      <td>0</td>\n",
       "      <td>0</td>\n",
       "      <td>1</td>\n",
       "    </tr>\n",
       "    <tr>\n",
       "      <th>1</th>\n",
       "      <td>0</td>\n",
       "      <td>0</td>\n",
       "      <td>0</td>\n",
       "      <td>0</td>\n",
       "      <td>0</td>\n",
       "      <td>0</td>\n",
       "      <td>0</td>\n",
       "      <td>0</td>\n",
       "      <td>2</td>\n",
       "      <td>2</td>\n",
       "      <td>0</td>\n",
       "    </tr>\n",
       "    <tr>\n",
       "      <th>2</th>\n",
       "      <td>0</td>\n",
       "      <td>0</td>\n",
       "      <td>0</td>\n",
       "      <td>1</td>\n",
       "      <td>0</td>\n",
       "      <td>0</td>\n",
       "      <td>0</td>\n",
       "      <td>0</td>\n",
       "      <td>1</td>\n",
       "      <td>0</td>\n",
       "      <td>1</td>\n",
       "    </tr>\n",
       "    <tr>\n",
       "      <th>3</th>\n",
       "      <td>0</td>\n",
       "      <td>0</td>\n",
       "      <td>0</td>\n",
       "      <td>1</td>\n",
       "      <td>0</td>\n",
       "      <td>0</td>\n",
       "      <td>0</td>\n",
       "      <td>0</td>\n",
       "      <td>0</td>\n",
       "      <td>0</td>\n",
       "      <td>0</td>\n",
       "    </tr>\n",
       "  </tbody>\n",
       "</table>\n",
       "</div>"
      ],
      "text/plain": [
       "   best  cmng  dn  fine  fn  friend  frnd  plz  r  u  gender\n",
       "0     0     2   0     0   0       0     0    0  1  2       1\n",
       "1     0     1   0     0   0       0     0    0  1  0       0\n",
       "2     0     0   0     2   0       0     0    0  1  1       1\n",
       "3     0     0   0     0   1       0     0    0  0  0       0\n",
       "4     0     0   1     0   0       0     1    0  0  0       1\n",
       "5     1     0   0     0   0       1     0    0  0  0       0\n",
       "0     0     0   0     0   0       0     1    2  0  0       1\n",
       "1     0     0   0     0   0       0     0    0  2  2       0\n",
       "2     0     0   0     1   0       0     0    0  1  0       1\n",
       "3     0     0   0     1   0       0     0    0  0  0       0"
      ]
     },
     "execution_count": 38,
     "metadata": {},
     "output_type": "execute_result"
    }
   ],
   "source": [
    "print(\"All Features in form of DataFrame:\\n\")\n",
    "\n",
    "Combined_Dataset=pd.concat([Train_Dataset_AL3,Test_Dataset_AL3])\n",
    "Combined_Dataset"
   ]
  },
  {
   "cell_type": "markdown",
   "metadata": {},
   "source": [
    "### Train Best Model on All Data"
   ]
  },
  {
   "cell_type": "code",
   "execution_count": 39,
   "metadata": {},
   "outputs": [
    {
     "data": {
      "text/plain": [
       "RandomForestClassifier(bootstrap=True, class_weight=None, criterion='gini',\n",
       "            max_depth=None, max_features='auto', max_leaf_nodes=None,\n",
       "            min_impurity_decrease=0.0, min_impurity_split=None,\n",
       "            min_samples_leaf=1, min_samples_split=2,\n",
       "            min_weight_fraction_leaf=0.0, n_estimators=10, n_jobs=1,\n",
       "            oob_score=False, random_state=None, verbose=0,\n",
       "            warm_start=False)"
      ]
     },
     "execution_count": 39,
     "metadata": {},
     "output_type": "execute_result"
    }
   ],
   "source": [
    "CombinedX=Combined_Dataset[['best','cmng','dn','fine','fn','friend','frnd','plz','r','u']] \n",
    "CombinedY=Combined_Dataset[['gender']]\n",
    "\n",
    "rfc.fit(CombinedX,CombinedY.values.ravel())"
   ]
  },
  {
   "cell_type": "markdown",
   "metadata": {},
   "source": [
    "### Save the Trained Model as Pickle File"
   ]
  },
  {
   "cell_type": "code",
   "execution_count": 40,
   "metadata": {},
   "outputs": [],
   "source": [
    "Combined_Rfc='C:\\\\Users\\\\AWAB\\\\Desktop\\\\test\\\\combined_rfc.sav'\n",
    "pickle.dump(rfc,open(Combined_Rfc,'wb'))"
   ]
  },
  {
   "cell_type": "markdown",
   "metadata": {},
   "source": [
    "___\n",
    "___\n",
    "___\n",
    "___\n",
    "___\n",
    "___\n",
    "___"
   ]
  },
  {
   "cell_type": "markdown",
   "metadata": {},
   "source": [
    "## Make Prediction on Unseen/New Data\n",
    "___\n",
    "\n",
    "### Load the Trained Model"
   ]
  },
  {
   "cell_type": "code",
   "execution_count": 41,
   "metadata": {},
   "outputs": [],
   "source": [
    "rfc = pickle.load(open(Combined_Rfc, 'rb'))"
   ]
  },
  {
   "cell_type": "markdown",
   "metadata": {},
   "source": [
    "### Take Input from User"
   ]
  },
  {
   "cell_type": "code",
   "execution_count": 42,
   "metadata": {},
   "outputs": [
    {
     "name": "stdout",
     "output_type": "stream",
     "text": [
      "Please enter your comment here: plz go out, plz out with with frnd\n"
     ]
    }
   ],
   "source": [
    "comment_text = input(\"Please enter your comment here: \")"
   ]
  },
  {
   "cell_type": "markdown",
   "metadata": {},
   "source": [
    "### Conver User Input into Feature Vector"
   ]
  },
  {
   "cell_type": "code",
   "execution_count": 43,
   "metadata": {},
   "outputs": [],
   "source": [
    "temp_string=re.sub(r'[^\\w\\s]','',comment_text)\n",
    "comment_text=''.join([i for i in temp_string if not i.isdigit()])"
   ]
  },
  {
   "cell_type": "code",
   "execution_count": 44,
   "metadata": {},
   "outputs": [
    {
     "name": "stdout",
     "output_type": "stream",
     "text": [
      "Vector features: ['best', 'cmng', 'dn', 'fine', 'fn', 'friend', 'frnd', 'plz', 'r', 'u']\n"
     ]
    }
   ],
   "source": [
    "Comment_Fit_Unseen = vect.transform([comment_text])\n",
    "Feature_Names_Unseen = vect.get_feature_names()\n",
    "print(\"Vector features:\",Feature_Names_Unseen)"
   ]
  },
  {
   "cell_type": "code",
   "execution_count": 45,
   "metadata": {},
   "outputs": [
    {
     "name": "stdout",
     "output_type": "stream",
     "text": [
      "User input features with weights:\n"
     ]
    },
    {
     "data": {
      "text/html": [
       "<div>\n",
       "<style scoped>\n",
       "    .dataframe tbody tr th:only-of-type {\n",
       "        vertical-align: middle;\n",
       "    }\n",
       "\n",
       "    .dataframe tbody tr th {\n",
       "        vertical-align: top;\n",
       "    }\n",
       "\n",
       "    .dataframe thead th {\n",
       "        text-align: right;\n",
       "    }\n",
       "</style>\n",
       "<table border=\"1\" class=\"dataframe\">\n",
       "  <thead>\n",
       "    <tr style=\"text-align: right;\">\n",
       "      <th></th>\n",
       "      <th>best</th>\n",
       "      <th>cmng</th>\n",
       "      <th>dn</th>\n",
       "      <th>fine</th>\n",
       "      <th>fn</th>\n",
       "      <th>friend</th>\n",
       "      <th>frnd</th>\n",
       "      <th>plz</th>\n",
       "      <th>r</th>\n",
       "      <th>u</th>\n",
       "    </tr>\n",
       "  </thead>\n",
       "  <tbody>\n",
       "    <tr>\n",
       "      <th>0</th>\n",
       "      <td>0</td>\n",
       "      <td>0</td>\n",
       "      <td>0</td>\n",
       "      <td>0</td>\n",
       "      <td>0</td>\n",
       "      <td>0</td>\n",
       "      <td>1</td>\n",
       "      <td>2</td>\n",
       "      <td>0</td>\n",
       "      <td>0</td>\n",
       "    </tr>\n",
       "  </tbody>\n",
       "</table>\n",
       "</div>"
      ],
      "text/plain": [
       "   best  cmng  dn  fine  fn  friend  frnd  plz  r  u\n",
       "0     0     0   0     0   0       0     1    2  0  0"
      ]
     },
     "execution_count": 45,
     "metadata": {},
     "output_type": "execute_result"
    }
   ],
   "source": [
    "Data_Unseen = Comment_Fit_Unseen.toarray()\n",
    "Feature_Vector = pd.DataFrame(Data_Unseen,columns=Feature_Names_Unseen)\n",
    "print(\"User input features with weights:\")\n",
    "Feature_Vector"
   ]
  },
  {
   "cell_type": "markdown",
   "metadata": {},
   "source": [
    "___"
   ]
  },
  {
   "cell_type": "markdown",
   "metadata": {},
   "source": [
    "### Apply Trained Model on Feature Vector of Unseen Data and Output Prediction to User"
   ]
  },
  {
   "cell_type": "code",
   "execution_count": 46,
   "metadata": {},
   "outputs": [
    {
     "name": "stdout",
     "output_type": "stream",
     "text": [
      "Male\n"
     ]
    }
   ],
   "source": [
    "Unseen_Prediction = rfc.predict(Feature_Vector)\n",
    "if Unseen_Prediction == 1:\n",
    "    print(\"Male\")\n",
    "else:\n",
    "    print(\"Female\")"
   ]
  }
 ],
 "metadata": {
  "kernelspec": {
   "display_name": "Python 3",
   "language": "python",
   "name": "python3"
  },
  "language_info": {
   "codemirror_mode": {
    "name": "ipython",
    "version": 3
   },
   "file_extension": ".py",
   "mimetype": "text/x-python",
   "name": "python",
   "nbconvert_exporter": "python",
   "pygments_lexer": "ipython3",
   "version": "3.6.5"
  }
 },
 "nbformat": 4,
 "nbformat_minor": 2
}
