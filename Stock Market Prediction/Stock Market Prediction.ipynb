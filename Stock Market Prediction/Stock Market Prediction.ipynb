{
 "cells": [
  {
   "cell_type": "markdown",
   "metadata": {},
   "source": [
    "## Import Libraries"
   ]
  },
  {
   "cell_type": "code",
   "execution_count": null,
   "metadata": {},
   "outputs": [],
   "source": [
    "import math\n",
    "import numpy as np\n",
    "import pandas as pd\n",
    "import quandl\n",
    "from sklearn import preprocessing, model_selection, svm\n",
    "from sklearn.linear_model import LinearRegression\n",
    "from sklearn.ensemble import RandomForestRegressor\n",
    "from sklearn import tree\n",
    "import datetime\n",
    "import matplotlib.pyplot as plt\n",
    "from matplotlib import style\n",
    "import pickle\n",
    "from astropy.table import Table, Column\n",
    "from sklearn.metrics import mean_squared_error\n",
    "\n",
    "style.use('ggplot')"
   ]
  },
  {
   "cell_type": "markdown",
   "metadata": {},
   "source": [
    "## Read, Understand and Pre-process Data\n",
    "___\n",
    "### Understand Data"
   ]
  },
  {
   "cell_type": "code",
   "execution_count": null,
   "metadata": {},
   "outputs": [],
   "source": [
    "df = quandl.get(\"WIKI/GOOGL\")\n",
    "\n",
    "df.tail()"
   ]
  },
  {
   "cell_type": "code",
   "execution_count": null,
   "metadata": {},
   "outputs": [],
   "source": [
    "df = df[['Adj. Open',  'Adj. High',  'Adj. Low',  'Adj. Close', 'Adj. Volume']] #keeping only the important features"
   ]
  },
  {
   "cell_type": "code",
   "execution_count": null,
   "metadata": {},
   "outputs": [],
   "source": [
    "#creating new features by understanding the relationship b/w the given data's columns\n",
    "df['HL_PCT'] = (df['Adj. High'] - df['Adj. Low']) / df['Adj. Low'] * 100.0\n",
    "df['PCT_change'] = (df['Adj. Close'] - df['Adj. Open']) / df['Adj. Open'] * 100.0"
   ]
  },
  {
   "cell_type": "code",
   "execution_count": null,
   "metadata": {},
   "outputs": [],
   "source": [
    "df = df[['Adj. Close', 'HL_PCT', 'PCT_change', 'Adj. Volume']]\n",
    "df.head()"
   ]
  },
  {
   "cell_type": "code",
   "execution_count": null,
   "metadata": {},
   "outputs": [],
   "source": [
    "label_col='Adj. Close' #our label\n",
    "df.fillna(-99999, inplace=True)\n",
    "future_data = int(math.ceil(0.01 * len(df))) #1 pc of the data\n",
    "\n",
    "print(future_data)"
   ]
  },
  {
   "cell_type": "code",
   "execution_count": null,
   "metadata": {},
   "outputs": [],
   "source": [
    "df['label'] = df[label_col].shift(-future_data) #1 pc is 35 days. So, 35 days into the future\n",
    "df.head()"
   ]
  },
  {
   "cell_type": "markdown",
   "metadata": {},
   "source": [
    "___\n",
    "___\n",
    "___\n",
    "___\n",
    "___"
   ]
  },
  {
   "cell_type": "markdown",
   "metadata": {},
   "source": [
    "### Pre-Process Data"
   ]
  },
  {
   "cell_type": "code",
   "execution_count": null,
   "metadata": {},
   "outputs": [],
   "source": [
    "X = np.array(df.drop(['label'], 1)) #for training, storing all features in X and leaving out the label\n",
    "print(\"original:\\n\")\n",
    "print(X)\n",
    "X = preprocessing.scale(X)\n",
    "print(\"\\n\\nafter preprocess:\\n\")\n",
    "print(X)"
   ]
  },
  {
   "cell_type": "code",
   "execution_count": null,
   "metadata": {},
   "outputs": [],
   "source": [
    "X_lately = X[-future_data:] #the recent features on which prediction would be made\n",
    "X = X[:-future_data] #rest of the features\n",
    "\n",
    "print(df.tail())\n",
    "\n",
    "df.dropna(inplace=True) #dropping all rows having no value of label\n",
    "\n",
    "print(\"\\n\\n\",df.tail())"
   ]
  },
  {
   "cell_type": "code",
   "execution_count": null,
   "metadata": {},
   "outputs": [],
   "source": [
    "y = np.array(df['label']) #label values in y"
   ]
  },
  {
   "cell_type": "markdown",
   "metadata": {},
   "source": [
    "## Train ML Algorithms using Train Data\n",
    "___\n",
    "### Splitting data into train/test"
   ]
  },
  {
   "cell_type": "code",
   "execution_count": null,
   "metadata": {},
   "outputs": [],
   "source": [
    "X_train, X_test, y_train, y_test = model_selection.train_test_split(X, y, test_size=0.2)"
   ]
  },
  {
   "cell_type": "code",
   "execution_count": null,
   "metadata": {},
   "outputs": [],
   "source": [
    "print(\"\\t\\t\\tRandom Forest Regressor:\\n\\nParameters and their values:\\n\")\n",
    "rfc = RandomForestRegressor()\n",
    "rfc.fit(X_train, y_train)"
   ]
  },
  {
   "cell_type": "code",
   "execution_count": null,
   "metadata": {},
   "outputs": [],
   "source": [
    "print(\"\\t\\t\\tLinear Regression:\\n\\nParameters and their values:\\n\")\n",
    "lr_clf = LinearRegression()\n",
    "lr_clf.fit(X_train, y_train)"
   ]
  },
  {
   "cell_type": "code",
   "execution_count": null,
   "metadata": {},
   "outputs": [],
   "source": [
    "print(\"\\t\\t\\tDecision Tree Regressor:\\n\\nParameters and their values:\\n\")\n",
    "dt_clf = tree.DecisionTreeRegressor()\n",
    "dt_clf.fit(X_train, y_train)"
   ]
  },
  {
   "cell_type": "markdown",
   "metadata": {},
   "source": [
    "___\n",
    "___\n",
    "___\n",
    "___\n",
    "___\n",
    "___\n",
    "___\n",
    "___\n",
    "___\n",
    "___\n",
    "___\n",
    "___\n",
    "___\n",
    "___\n",
    "___\n",
    "___\n",
    "___\n",
    "___\n",
    "___\n",
    "___\n",
    "___\n",
    "___\n",
    "___"
   ]
  },
  {
   "cell_type": "markdown",
   "metadata": {},
   "source": [
    "## Evaluate ML Algorithms using Test Data\n",
    "___"
   ]
  },
  {
   "cell_type": "code",
   "execution_count": null,
   "metadata": {},
   "outputs": [],
   "source": [
    "print(\"Prediction using Random Forest Regressor:\\n\\n\")\n",
    "\n",
    "rfc_accuracy = rfc.score(X_test, y_test)\n",
    "print(\"Accuracy score =\",rfc_accuracy)\n",
    "\n",
    "rfc_predicted_set = rfc.predict(X_test)\n",
    "print(\"\\nPredicted Price:\\n\", rfc_predicted_set)"
   ]
  },
  {
   "cell_type": "code",
   "execution_count": null,
   "metadata": {},
   "outputs": [],
   "source": [
    "print(\"Prediction using Linear Regression:\\n\\n\")\n",
    "\n",
    "lr_accuracy = lr_clf.score(X_test, y_test)\n",
    "print(\"Accuracy score =\",lr_accuracy)\n",
    "\n",
    "lr_predicted_set = lr_clf.predict(X_test)\n",
    "print(\"\\nPredicted Price:\\n\",lr_predicted_set)"
   ]
  },
  {
   "cell_type": "code",
   "execution_count": null,
   "metadata": {},
   "outputs": [],
   "source": [
    "print(\"Prediction using Decision Tree Regressor:\\n\\n\")\n",
    "\n",
    "dt_accuracy = dt_clf.score(X_test, y_test)\n",
    "print(\"Accuracy score =\",dt_accuracy)\n",
    "\n",
    "dt_predicted_set = lr_clf.predict(X_test)\n",
    "print(\"\\nPredicted Price:\\n\",dt_predicted_set)"
   ]
  },
  {
   "cell_type": "markdown",
   "metadata": {},
   "source": [
    "___\n",
    "___"
   ]
  },
  {
   "cell_type": "markdown",
   "metadata": {},
   "source": [
    "## Selection of Best Model\n",
    "___"
   ]
  },
  {
   "cell_type": "code",
   "execution_count": null,
   "metadata": {},
   "outputs": [],
   "source": [
    "rfc_rms = np.sqrt(mean_squared_error(y_test, rfc_predicted_set))\n",
    "lr_rms = np.sqrt(mean_squared_error(y_test, lr_predicted_set))\n",
    "dt_rms = np.sqrt(mean_squared_error(y_test, dt_predicted_set))\n",
    "\n",
    "DR=[('LinearRegression',lr_rms),('RandomForestRegressor',rfc_rms),\n",
    "   ('DecisionTreeRegressor',dt_rms),]\n",
    "t = Table(rows=DR, names=('Model', 'RMSE'))\n",
    "print(\"Detailed Performance of all the models:\\n\")\n",
    "print(t)"
   ]
  },
  {
   "cell_type": "code",
   "execution_count": null,
   "metadata": {},
   "outputs": [],
   "source": [
    "BM_Arr={'RandomForestRegressor':rfc_rms,'LinearRegression':lr_rms,\n",
    "        'DecisionTreeRegressor':lr_rms}\n",
    "\n",
    "import operator\n",
    "Best_Model = min(BM_Arr.items(), key=operator.itemgetter(1))[0]\n",
    "\n",
    "t2 = Table(rows=[(Best_Model,BM_Arr[Best_Model])], names=('Model', 'RMSE'))\n",
    "print(\"Best Model:\\n\")\n",
    "print (t2)"
   ]
  },
  {
   "cell_type": "markdown",
   "metadata": {},
   "source": [
    "___"
   ]
  },
  {
   "cell_type": "markdown",
   "metadata": {},
   "source": [
    "## Application Phase\n",
    "___"
   ]
  },
  {
   "cell_type": "code",
   "execution_count": null,
   "metadata": {},
   "outputs": [],
   "source": [
    "print(\"All Features in form of DataFrame:\\n\")\n",
    "df.tail()"
   ]
  },
  {
   "cell_type": "markdown",
   "metadata": {},
   "source": [
    "### Train Best Model on All Data"
   ]
  },
  {
   "cell_type": "code",
   "execution_count": null,
   "metadata": {},
   "outputs": [],
   "source": [
    "rfc.fit(X,y)"
   ]
  },
  {
   "cell_type": "markdown",
   "metadata": {},
   "source": [
    "### Save the Trained Model as Pickle File"
   ]
  },
  {
   "cell_type": "code",
   "execution_count": null,
   "metadata": {},
   "outputs": [],
   "source": [
    "with open('randomforest.pickle','wb') as f:\n",
    "    pickle.dump(rfc, f)\n",
    "    "
   ]
  },
  {
   "cell_type": "markdown",
   "metadata": {},
   "source": [
    "## Make Prediction of future prices\n",
    "___\n",
    "\n",
    "### Load the Trained Model"
   ]
  },
  {
   "cell_type": "code",
   "execution_count": null,
   "metadata": {},
   "outputs": [],
   "source": [
    "pickle_in = open('randomforest.pickle','rb')\n",
    "rfc = pickle.load(pickle_in)"
   ]
  },
  {
   "cell_type": "markdown",
   "metadata": {},
   "source": [
    "### Apply Trained Model and Output Prediction to User"
   ]
  },
  {
   "cell_type": "code",
   "execution_count": null,
   "metadata": {},
   "outputs": [],
   "source": [
    "rfc_predicted_combined = rfc.predict(X_lately)\n",
    "print(\"\\nPredicted Price:\\n\",rfc_predicted_combined)"
   ]
  },
  {
   "cell_type": "markdown",
   "metadata": {},
   "source": [
    "### Adding dates with our predicted prices"
   ]
  },
  {
   "cell_type": "code",
   "execution_count": null,
   "metadata": {},
   "outputs": [],
   "source": [
    "df['Predicted']=np.nan\n",
    "print(df.tail())\n",
    "last_date = df.iloc[-1].name\n",
    "last_unix = last_date.timestamp()\n",
    "one_day = 86400\n",
    "next_unix = last_unix + one_day\n",
    "\n",
    "for i in rfc_predicted_combined:\n",
    "    next_date = datetime.datetime.fromtimestamp(next_unix)\n",
    "    next_unix += 86400\n",
    "    df.loc[next_date] = [np.nan for x in range(len(df.columns)-1)]+[i]"
   ]
  },
  {
   "cell_type": "code",
   "execution_count": null,
   "metadata": {
    "scrolled": true
   },
   "outputs": [],
   "source": [
    "df[-future_data:] #dataframe just with our predicted prices\n",
    "df"
   ]
  },
  {
   "cell_type": "markdown",
   "metadata": {},
   "source": [
    "### Graphically showing our prediction of closing stock prices with time"
   ]
  },
  {
   "cell_type": "code",
   "execution_count": null,
   "metadata": {},
   "outputs": [],
   "source": [
    "df['Adj. Close'].plot()\n",
    "df['Predicted'].plot()\n",
    "plt.legend(loc=4)\n",
    "plt.xlabel('Date')\n",
    "plt.ylabel('Price')\n",
    "plt.show()"
   ]
  },
  {
   "cell_type": "code",
   "execution_count": null,
   "metadata": {
    "scrolled": true
   },
   "outputs": [],
   "source": []
  },
  {
   "cell_type": "code",
   "execution_count": null,
   "metadata": {},
   "outputs": [],
   "source": []
  },
  {
   "cell_type": "code",
   "execution_count": null,
   "metadata": {},
   "outputs": [],
   "source": []
  },
  {
   "cell_type": "code",
   "execution_count": null,
   "metadata": {},
   "outputs": [],
   "source": []
  }
 ],
 "metadata": {
  "kernelspec": {
   "display_name": "Python 3",
   "language": "python",
   "name": "python3"
  },
  "language_info": {
   "codemirror_mode": {
    "name": "ipython",
    "version": 3
   },
   "file_extension": ".py",
   "mimetype": "text/x-python",
   "name": "python",
   "nbconvert_exporter": "python",
   "pygments_lexer": "ipython3",
   "version": "3.6.5"
  }
 },
 "nbformat": 4,
 "nbformat_minor": 2
}
