{
 "cells": [
  {
   "cell_type": "markdown",
   "metadata": {},
   "source": [
    "## Import Libraries\n",
    "___"
   ]
  },
  {
   "cell_type": "code",
   "execution_count": 1,
   "metadata": {},
   "outputs": [],
   "source": [
    "import re\n",
    "import string\n",
    "import scipy\n",
    "import pickle\n",
    "import pandas as pd\n",
    "import numpy as np\n",
    "from sklearn.feature_extraction.text import *\n",
    "from sklearn.preprocessing import LabelEncoder\n",
    "from sklearn.linear_model import LogisticRegression\n",
    "from sklearn.naive_bayes import BernoulliNB\n",
    "from sklearn.ensemble import RandomForestClassifier\n",
    "from sklearn.svm import LinearSVC\n",
    "from sklearn.metrics import accuracy_score\n",
    "import matplotlib.pyplot as plt\n",
    "from astropy.table import Table, Column"
   ]
  },
  {
   "cell_type": "markdown",
   "metadata": {},
   "source": [
    "## Read, Understand and Pre-process Train/Test Data\n",
    "___\n",
    "### Understand Data"
   ]
  },
  {
   "cell_type": "code",
   "execution_count": 2,
   "metadata": {},
   "outputs": [
    {
     "name": "stdout",
     "output_type": "stream",
     "text": [
      "Train Dataset:\n"
     ]
    },
    {
     "data": {
      "text/html": [
       "<div>\n",
       "<style scoped>\n",
       "    .dataframe tbody tr th:only-of-type {\n",
       "        vertical-align: middle;\n",
       "    }\n",
       "\n",
       "    .dataframe tbody tr th {\n",
       "        vertical-align: top;\n",
       "    }\n",
       "\n",
       "    .dataframe thead th {\n",
       "        text-align: right;\n",
       "    }\n",
       "</style>\n",
       "<table border=\"1\" class=\"dataframe\">\n",
       "  <thead>\n",
       "    <tr style=\"text-align: right;\">\n",
       "      <th></th>\n",
       "      <th>height</th>\n",
       "      <th>weight</th>\n",
       "      <th>hair</th>\n",
       "      <th>beard</th>\n",
       "      <th>scarf</th>\n",
       "      <th>gender</th>\n",
       "    </tr>\n",
       "  </thead>\n",
       "  <tbody>\n",
       "    <tr>\n",
       "      <th>0</th>\n",
       "      <td>180.3000</td>\n",
       "      <td>196</td>\n",
       "      <td>Bald</td>\n",
       "      <td>Yes</td>\n",
       "      <td>No</td>\n",
       "      <td>Male</td>\n",
       "    </tr>\n",
       "    <tr>\n",
       "      <th>1</th>\n",
       "      <td>170.0000</td>\n",
       "      <td>120</td>\n",
       "      <td>Long</td>\n",
       "      <td>No</td>\n",
       "      <td>No</td>\n",
       "      <td>Female</td>\n",
       "    </tr>\n",
       "    <tr>\n",
       "      <th>2</th>\n",
       "      <td>178.5000</td>\n",
       "      <td>200</td>\n",
       "      <td>Short</td>\n",
       "      <td>No</td>\n",
       "      <td>No</td>\n",
       "      <td>Male</td>\n",
       "    </tr>\n",
       "    <tr>\n",
       "      <th>3</th>\n",
       "      <td>163.4000</td>\n",
       "      <td>110</td>\n",
       "      <td>Medium</td>\n",
       "      <td>No</td>\n",
       "      <td>Yes</td>\n",
       "      <td>Female</td>\n",
       "    </tr>\n",
       "    <tr>\n",
       "      <th>4</th>\n",
       "      <td>175.2222</td>\n",
       "      <td>220</td>\n",
       "      <td>Short</td>\n",
       "      <td>Yes</td>\n",
       "      <td>No</td>\n",
       "      <td>Male</td>\n",
       "    </tr>\n",
       "    <tr>\n",
       "      <th>5</th>\n",
       "      <td>165.0000</td>\n",
       "      <td>150</td>\n",
       "      <td>Medium</td>\n",
       "      <td>No</td>\n",
       "      <td>Yes</td>\n",
       "      <td>Female</td>\n",
       "    </tr>\n",
       "  </tbody>\n",
       "</table>\n",
       "</div>"
      ],
      "text/plain": [
       "     height  weight    hair beard scarf  gender\n",
       "0  180.3000     196    Bald   Yes    No    Male\n",
       "1  170.0000     120    Long    No    No  Female\n",
       "2  178.5000     200   Short    No    No    Male\n",
       "3  163.4000     110  Medium    No   Yes  Female\n",
       "4  175.2222     220   Short   Yes    No    Male\n",
       "5  165.0000     150  Medium    No   Yes  Female"
      ]
     },
     "execution_count": 2,
     "metadata": {},
     "output_type": "execute_result"
    }
   ],
   "source": [
    "TD=pd.read_csv(\"C:\\\\Users\\\\AWAB\\\\Documents\\\\Uni\\\\Sem 7\\\\Machine Learning\\\\A\\\\2\\\\train.csv\")\n",
    "Train_Dataset=pd.DataFrame(TD)\n",
    " \n",
    "print(\"Train Dataset:\") \n",
    "Train_Dataset"
   ]
  },
  {
   "cell_type": "code",
   "execution_count": 3,
   "metadata": {},
   "outputs": [
    {
     "name": "stdout",
     "output_type": "stream",
     "text": [
      "Train Dataset Columns:\n",
      "Index(['height', 'weight', 'hair', 'beard', 'scarf', 'gender'], dtype='object')\n",
      "\n",
      "Train instances: 6\n"
     ]
    }
   ],
   "source": [
    "print(\"Train Dataset Columns:\") \n",
    "print(Train_Dataset.columns)\n",
    "print(\"\\nTrain instances:\",Train_Dataset.shape[0])"
   ]
  },
  {
   "cell_type": "code",
   "execution_count": 4,
   "metadata": {},
   "outputs": [
    {
     "name": "stdout",
     "output_type": "stream",
     "text": [
      "Test Dataset:\n"
     ]
    },
    {
     "data": {
      "text/html": [
       "<div>\n",
       "<style scoped>\n",
       "    .dataframe tbody tr th:only-of-type {\n",
       "        vertical-align: middle;\n",
       "    }\n",
       "\n",
       "    .dataframe tbody tr th {\n",
       "        vertical-align: top;\n",
       "    }\n",
       "\n",
       "    .dataframe thead th {\n",
       "        text-align: right;\n",
       "    }\n",
       "</style>\n",
       "<table border=\"1\" class=\"dataframe\">\n",
       "  <thead>\n",
       "    <tr style=\"text-align: right;\">\n",
       "      <th></th>\n",
       "      <th>height</th>\n",
       "      <th>weight</th>\n",
       "      <th>hair</th>\n",
       "      <th>beard</th>\n",
       "      <th>scarf</th>\n",
       "      <th>gender</th>\n",
       "    </tr>\n",
       "  </thead>\n",
       "  <tbody>\n",
       "    <tr>\n",
       "      <th>0</th>\n",
       "      <td>179.1</td>\n",
       "      <td>185</td>\n",
       "      <td>Long</td>\n",
       "      <td>Yes</td>\n",
       "      <td>No</td>\n",
       "      <td>Male</td>\n",
       "    </tr>\n",
       "    <tr>\n",
       "      <th>1</th>\n",
       "      <td>160.5</td>\n",
       "      <td>130</td>\n",
       "      <td>Short</td>\n",
       "      <td>No</td>\n",
       "      <td>No</td>\n",
       "      <td>Female</td>\n",
       "    </tr>\n",
       "    <tr>\n",
       "      <th>2</th>\n",
       "      <td>177.8</td>\n",
       "      <td>160</td>\n",
       "      <td>Bald</td>\n",
       "      <td>No</td>\n",
       "      <td>No</td>\n",
       "      <td>Male</td>\n",
       "    </tr>\n",
       "    <tr>\n",
       "      <th>3</th>\n",
       "      <td>161.1</td>\n",
       "      <td>100</td>\n",
       "      <td>Medium</td>\n",
       "      <td>No</td>\n",
       "      <td>No</td>\n",
       "      <td>Female</td>\n",
       "    </tr>\n",
       "  </tbody>\n",
       "</table>\n",
       "</div>"
      ],
      "text/plain": [
       "   height  weight    hair beard scarf  gender\n",
       "0   179.1     185    Long   Yes    No    Male\n",
       "1   160.5     130   Short    No    No  Female\n",
       "2   177.8     160    Bald    No    No    Male\n",
       "3   161.1     100  Medium    No    No  Female"
      ]
     },
     "execution_count": 4,
     "metadata": {},
     "output_type": "execute_result"
    }
   ],
   "source": [
    "TED=pd.read_csv(\"C:\\\\Users\\\\AWAB\\\\Documents\\\\Uni\\\\Sem 7\\\\Machine Learning\\\\A\\\\2\\\\test.csv\")\n",
    "Test_Dataset=pd.DataFrame(TED)\n",
    " \n",
    "print(\"Test Dataset:\") \n",
    "Test_Dataset"
   ]
  },
  {
   "cell_type": "code",
   "execution_count": 5,
   "metadata": {},
   "outputs": [
    {
     "name": "stdout",
     "output_type": "stream",
     "text": [
      "Test Dataset Columns:\n",
      "Index(['height', 'weight', 'hair', 'beard', 'scarf', 'gender'], dtype='object')\n",
      "\n",
      "Test instances: 4\n"
     ]
    }
   ],
   "source": [
    "print(\"Test Dataset Columns:\") \n",
    "print(Test_Dataset.columns)\n",
    "print(\"\\nTest instances:\",Test_Dataset.shape[0])"
   ]
  },
  {
   "cell_type": "code",
   "execution_count": 6,
   "metadata": {},
   "outputs": [
    {
     "name": "stdout",
     "output_type": "stream",
     "text": [
      "3 Train instances having label 'Male':\n",
      "     height  weight   hair beard scarf gender\n",
      "0  180.3000     196   Bald   Yes    No   Male\n",
      "2  178.5000     200  Short    No    No   Male\n",
      "4  175.2222     220  Short   Yes    No   Male\n",
      "\n",
      "3 Train instances having label 'Female':\n",
      "   height  weight    hair beard scarf  gender\n",
      "1   170.0     120    Long    No    No  Female\n",
      "3   163.4     110  Medium    No   Yes  Female\n",
      "5   165.0     150  Medium    No   Yes  Female\n"
     ]
    }
   ],
   "source": [
    "print(\"3 Train instances having label 'Male':\")\n",
    "print(Train_Dataset.loc[Train_Dataset['gender']=='Male'])\n",
    "\n",
    "print(\"\\n3 Train instances having label 'Female':\")\n",
    "print(Train_Dataset.loc[Train_Dataset['gender']=='Female'])"
   ]
  },
  {
   "cell_type": "code",
   "execution_count": 7,
   "metadata": {
    "scrolled": true
   },
   "outputs": [
    {
     "name": "stdout",
     "output_type": "stream",
     "text": [
      "2 Test instances having label 'Male':\n",
      "   height  weight  hair beard scarf gender\n",
      "0   179.1     185  Long   Yes    No   Male\n",
      "2   177.8     160  Bald    No    No   Male\n",
      "\n",
      "2 Test instances having label 'Female':\n",
      "   height  weight    hair beard scarf  gender\n",
      "1   160.5     130   Short    No    No  Female\n",
      "3   161.1     100  Medium    No    No  Female\n"
     ]
    }
   ],
   "source": [
    "print(\"2 Test instances having label 'Male':\")\n",
    "print(Test_Dataset.loc[Test_Dataset['gender']=='Male'])\n",
    "\n",
    "print(\"\\n2 Test instances having label 'Female':\")\n",
    "print(Test_Dataset.loc[Test_Dataset['gender']=='Female'])"
   ]
  },
  {
   "cell_type": "code",
   "execution_count": 8,
   "metadata": {},
   "outputs": [
    {
     "name": "stdout",
     "output_type": "stream",
     "text": [
      "\n",
      "\n",
      "Total no of 'Males' and 'Females' in Train Dataset\n"
     ]
    },
    {
     "data": {
      "image/png": "[encoded data removed]",
      "text/plain": [
       "<Figure size 432x288 with 1 Axes>"
      ]
     },
     "metadata": {},
     "output_type": "display_data"
    },
    {
     "name": "stdout",
     "output_type": "stream",
     "text": [
      "\n",
      "Total no of 'Males' and 'Females' in Test Dataset\n"
     ]
    },
    {
     "data": {
      "image/png": "[encoded data removed]",
      "text/plain": [
       "<Figure size 432x288 with 1 Axes>"
      ]
     },
     "metadata": {},
     "output_type": "display_data"
    }
   ],
   "source": [
    "print(\"\\n\\nTotal no of 'Males' and 'Females' in Train Dataset\")\n",
    "Train_Dataset['gender'].value_counts().plot(kind='bar', rot=0)\n",
    "plt.xlabel('Gender')\n",
    "plt.show()\n",
    "\n",
    "print(\"\\nTotal no of 'Males' and 'Females' in Test Dataset\")\n",
    "Test_Dataset['gender'].value_counts().plot(kind='bar', rot=0)\n",
    "plt.xlabel('Gender')\n",
    "plt.show()"
   ]
  },
  {
   "cell_type": "code",
   "execution_count": 9,
   "metadata": {},
   "outputs": [
    {
     "name": "stdout",
     "output_type": "stream",
     "text": [
      "Number of people having various hair length in Train Dataset\n"
     ]
    },
    {
     "data": {
      "image/png": "[encoded data removed]",
      "text/plain": [
       "<Figure size 432x288 with 1 Axes>"
      ]
     },
     "metadata": {},
     "output_type": "display_data"
    },
    {
     "name": "stdout",
     "output_type": "stream",
     "text": [
      "\n",
      "\n",
      "Number of people having various hair length in Test Dataset\n"
     ]
    },
    {
     "data": {
      "image/png": "[encoded data removed]",
      "text/plain": [
       "<Figure size 432x288 with 1 Axes>"
      ]
     },
     "metadata": {},
     "output_type": "display_data"
    }
   ],
   "source": [
    "print(\"Number of people having various hair length in Train Dataset\")\n",
    "Train_Dataset['hair'].value_counts().plot(kind='bar')\n",
    "plt.show()\n",
    "\n",
    "print(\"\\n\\nNumber of people having various hair length in Test Dataset\")\n",
    "Test_Dataset['hair'].value_counts().plot(kind='bar')\n",
    "plt.show()"
   ]
  },
  {
   "cell_type": "code",
   "execution_count": 10,
   "metadata": {},
   "outputs": [
    {
     "name": "stdout",
     "output_type": "stream",
     "text": [
      "\n",
      "Number of people do/don't have beard in Train Dataset\n"
     ]
    },
    {
     "data": {
      "image/png": "[encoded data removed]",
      "text/plain": [
       "<Figure size 432x288 with 1 Axes>"
      ]
     },
     "metadata": {},
     "output_type": "display_data"
    },
    {
     "name": "stdout",
     "output_type": "stream",
     "text": [
      "\n",
      "\n",
      "Number of people do/don't have beard in Test Dataset\n"
     ]
    },
    {
     "data": {
      "image/png": "[encoded data removed]",
      "text/plain": [
       "<Figure size 432x288 with 1 Axes>"
      ]
     },
     "metadata": {},
     "output_type": "display_data"
    }
   ],
   "source": [
    "print(\"\\nNumber of people do/don't have beard in Train Dataset\")\n",
    "Train_Dataset['beard'].value_counts().plot(kind='bar')\n",
    "plt.show()\n",
    "\n",
    "print(\"\\n\\nNumber of people do/don't have beard in Test Dataset\")\n",
    "Test_Dataset['beard'].value_counts().plot(kind='bar')\n",
    "plt.show()"
   ]
  },
  {
   "cell_type": "markdown",
   "metadata": {},
   "source": [
    "___"
   ]
  },
  {
   "cell_type": "markdown",
   "metadata": {},
   "source": [
    "___"
   ]
  },
  {
   "cell_type": "markdown",
   "metadata": {},
   "source": [
    "___"
   ]
  },
  {
   "cell_type": "markdown",
   "metadata": {},
   "source": [
    "### Pre-Process Data"
   ]
  },
  {
   "cell_type": "code",
   "execution_count": 11,
   "metadata": {},
   "outputs": [
    {
     "name": "stdout",
     "output_type": "stream",
     "text": [
      "\n",
      "\n",
      "Train dataset before pre-processing:\n",
      "\n",
      "     height  weight    hair beard scarf  gender\n",
      "0  180.3000     196    Bald   Yes    No    Male\n",
      "1  170.0000     120    Long    No    No  Female\n",
      "2  178.5000     200   Short    No    No    Male\n",
      "3  163.4000     110  Medium    No   Yes  Female\n",
      "4  175.2222     220   Short   Yes    No    Male\n",
      "5  165.0000     150  Medium    No   Yes  Female\n",
      "\n",
      "\n",
      "\n",
      "\n",
      "Train dataset after pre-processing:\n",
      "\n",
      "   height  weight    hair beard scarf  gender\n",
      "0  180.30     196    Bald   Yes    No    Male\n",
      "1  170.00     120    Long    No    No  Female\n",
      "2  178.50     200   Short    No    No    Male\n",
      "3  163.40     110  Medium    No   Yes  Female\n",
      "4  175.22     220   Short   Yes    No    Male\n",
      "5  165.00     150  Medium    No   Yes  Female\n"
     ]
    }
   ],
   "source": [
    "print(\"\\n\\nTrain dataset before pre-processing:\\n\")\n",
    "print(Train_Dataset) \n",
    " \n",
    "print(\"\\n\\n\\n\\nTrain dataset after pre-processing:\\n\") \n",
    "Train_Dataset_AP=Train_Dataset.round({'height' : 2}) \n",
    "print(Train_Dataset_AP)"
   ]
  },
  {
   "cell_type": "markdown",
   "metadata": {},
   "source": [
    "___"
   ]
  },
  {
   "cell_type": "markdown",
   "metadata": {},
   "source": [
    "___"
   ]
  },
  {
   "cell_type": "markdown",
   "metadata": {},
   "source": [
    "___"
   ]
  },
  {
   "cell_type": "markdown",
   "metadata": {},
   "source": [
    "___"
   ]
  },
  {
   "cell_type": "markdown",
   "metadata": {},
   "source": [
    "___"
   ]
  },
  {
   "cell_type": "markdown",
   "metadata": {},
   "source": [
    "___"
   ]
  },
  {
   "cell_type": "markdown",
   "metadata": {},
   "source": [
    "## Label Encoding for Train/Test Data\n",
    "___"
   ]
  },
  {
   "cell_type": "code",
   "execution_count": 12,
   "metadata": {},
   "outputs": [
    {
     "name": "stdout",
     "output_type": "stream",
     "text": [
      "Gender Attribute Encoding in Train Dataset:\n",
      "\n",
      "\n",
      "gender:\n",
      "\n",
      "0      Male\n",
      "1    Female\n",
      "2      Male\n",
      "3    Female\n",
      "4      Male\n",
      "5    Female\n",
      "Name: gender, dtype: object\n",
      "\n",
      "encoded_gender:\n",
      "\n",
      "0    1\n",
      "1    0\n",
      "2    1\n",
      "3    0\n",
      "4    1\n",
      "5    0\n",
      "Name: gender, dtype: int64\n"
     ]
    }
   ],
   "source": [
    "print(\"Gender Attribute Encoding in Train Dataset:\\n\\n\")\n",
    "\n",
    "print(\"gender:\\n\")\n",
    "print(Train_Dataset['gender']) \n",
    "\n",
    "Train_Dataset_AL=Train_Dataset_AP.copy()\n",
    "\n",
    "Gender_Fit=LabelEncoder().fit(Train_Dataset_AL['gender'])\n",
    "Train_Dataset_AL['gender'] = Gender_Fit.transform(Train_Dataset_AL['gender'])\n",
    "print(\"\\nencoded_gender:\\n\")\n",
    "print(Train_Dataset_AL['gender'])"
   ]
  },
  {
   "cell_type": "code",
   "execution_count": 13,
   "metadata": {},
   "outputs": [
    {
     "name": "stdout",
     "output_type": "stream",
     "text": [
      "Scarf Attribute Encoding in Train Dataset:\n",
      "\n",
      "\n",
      "scarf:\n",
      "\n",
      "0     No\n",
      "1     No\n",
      "2     No\n",
      "3    Yes\n",
      "4     No\n",
      "5    Yes\n",
      "Name: scarf, dtype: object\n",
      "\n",
      "encoded_scarf:\n",
      "\n",
      "0    0\n",
      "1    0\n",
      "2    0\n",
      "3    1\n",
      "4    0\n",
      "5    1\n",
      "Name: scarf, dtype: int64\n"
     ]
    }
   ],
   "source": [
    "print(\"Scarf Attribute Encoding in Train Dataset:\\n\\n\")\n",
    "\n",
    "print(\"scarf:\\n\")\n",
    "print(Train_Dataset_AP['scarf']) \n",
    "\n",
    "Scarf_Fit=LabelEncoder().fit(Train_Dataset_AL['scarf'])\n",
    "Train_Dataset_AL['scarf'] = Scarf_Fit.transform(Train_Dataset_AL['scarf'])\n",
    "print(\"\\nencoded_scarf:\\n\")\n",
    "print(Train_Dataset_AL['scarf']) "
   ]
  },
  {
   "cell_type": "code",
   "execution_count": 14,
   "metadata": {},
   "outputs": [
    {
     "name": "stdout",
     "output_type": "stream",
     "text": [
      "Beard Attribute Encoding in Train Dataset:\n",
      "\n",
      "\n",
      "beard:\n",
      "\n",
      "0    Yes\n",
      "1     No\n",
      "2     No\n",
      "3     No\n",
      "4    Yes\n",
      "5     No\n",
      "Name: beard, dtype: object\n",
      "\n",
      "encoded_beard:\n",
      "\n",
      "0    1\n",
      "1    0\n",
      "2    0\n",
      "3    0\n",
      "4    1\n",
      "5    0\n",
      "Name: beard, dtype: int64\n"
     ]
    }
   ],
   "source": [
    "print(\"Beard Attribute Encoding in Train Dataset:\\n\\n\")\n",
    "\n",
    "print(\"beard:\\n\")\n",
    "print(Train_Dataset_AP['beard']) \n",
    "\n",
    "Beard_Fit=LabelEncoder().fit(Train_Dataset_AL['beard'])\n",
    "Train_Dataset_AL['beard'] = Beard_Fit.transform(Train_Dataset_AL['beard'])\n",
    "print(\"\\nencoded_beard:\\n\")\n",
    "print(Train_Dataset_AL['beard']) "
   ]
  },
  {
   "cell_type": "code",
   "execution_count": 15,
   "metadata": {},
   "outputs": [
    {
     "name": "stdout",
     "output_type": "stream",
     "text": [
      "Hair Attribute Encoding in Train Dataset:\n",
      "\n",
      "\n",
      "hair:\n",
      "\n",
      "0      Bald\n",
      "1      Long\n",
      "2     Short\n",
      "3    Medium\n",
      "4     Short\n",
      "5    Medium\n",
      "Name: hair, dtype: object\n",
      "\n",
      "encoded_hair:\n",
      "\n",
      "0    0\n",
      "1    1\n",
      "2    3\n",
      "3    2\n",
      "4    3\n",
      "5    2\n",
      "Name: hair, dtype: int64\n"
     ]
    }
   ],
   "source": [
    "print(\"Hair Attribute Encoding in Train Dataset:\\n\\n\")\n",
    "\n",
    "print(\"hair:\\n\")\n",
    "print(Train_Dataset_AP['hair']) \n",
    "\n",
    "Hair_Fit=LabelEncoder().fit(Train_Dataset_AL['hair'])\n",
    "Train_Dataset_AL['hair'] = Hair_Fit.transform(Train_Dataset_AL['hair'])\n",
    "print(\"\\nencoded_hair:\\n\")\n",
    "print(Train_Dataset_AL['hair']) "
   ]
  },
  {
   "cell_type": "code",
   "execution_count": 16,
   "metadata": {},
   "outputs": [
    {
     "name": "stdout",
     "output_type": "stream",
     "text": [
      "Original Train Data:\n",
      "\n",
      "   height  weight    hair beard scarf  gender\n",
      "0  180.30     196    Bald   Yes    No    Male\n",
      "1  170.00     120    Long    No    No  Female\n",
      "2  178.50     200   Short    No    No    Male\n",
      "3  163.40     110  Medium    No   Yes  Female\n",
      "4  175.22     220   Short   Yes    No    Male\n",
      "5  165.00     150  Medium    No   Yes  Female\n",
      "\n",
      "\n",
      "\n",
      "Train Data after Label Encoding:\n",
      "\n",
      "   height  weight  hair  beard  scarf  gender\n",
      "0  180.30     196     0      1      0       1\n",
      "1  170.00     120     1      0      0       0\n",
      "2  178.50     200     3      0      0       1\n",
      "3  163.40     110     2      0      1       0\n",
      "4  175.22     220     3      1      0       1\n",
      "5  165.00     150     2      0      1       0\n"
     ]
    }
   ],
   "source": [
    "print(\"Original Train Data:\\n\")\n",
    "print(Train_Dataset_AP)\n",
    "\n",
    "print(\"\\n\\n\\nTrain Data after Label Encoding:\\n\")\n",
    "print(Train_Dataset_AL)"
   ]
  },
  {
   "cell_type": "code",
   "execution_count": 17,
   "metadata": {},
   "outputs": [
    {
     "name": "stdout",
     "output_type": "stream",
     "text": [
      "Original Test Dataset:\n",
      "\n",
      "   height  weight    hair beard scarf  gender\n",
      "0   179.1     185    Long   Yes    No    Male\n",
      "1   160.5     130   Short    No    No  Female\n",
      "2   177.8     160    Bald    No    No    Male\n",
      "3   161.1     100  Medium    No    No  Female\n",
      "\n",
      "\n",
      "\n",
      "Test Data after Label Encoding:\n",
      "\n",
      "   height  weight  hair  beard  scarf  gender\n",
      "0   179.1     185     1      1      0       1\n",
      "1   160.5     130     3      0      0       0\n",
      "2   177.8     160     0      0      0       1\n",
      "3   161.1     100     2      0      0       0\n"
     ]
    }
   ],
   "source": [
    "print(\"Original Test Dataset:\\n\")\n",
    "print(Test_Dataset)\n",
    "\n",
    "Test_Dataset_AL=Test_Dataset.copy()\n",
    "\n",
    "Gender_Fit_Test=LabelEncoder().fit(Test_Dataset_AL['gender'])\n",
    "Test_Dataset_AL['gender'] = Gender_Fit_Test.transform(Test_Dataset_AL['gender'])\n",
    "\n",
    "Scarf_Fit_Test=LabelEncoder().fit(Test_Dataset_AL['scarf'])\n",
    "Test_Dataset_AL['scarf'] = Scarf_Fit_Test.transform(Test_Dataset_AL['scarf'])\n",
    "\n",
    "Beard_Fit_Test=LabelEncoder().fit(Test_Dataset_AL['beard'])\n",
    "Test_Dataset_AL['beard'] = Beard_Fit_Test.transform(Test_Dataset_AL['beard'])\n",
    "\n",
    "Hair_Fit_Test=LabelEncoder().fit(Test_Dataset_AL['hair'])\n",
    "Test_Dataset_AL['hair'] = Hair_Fit_Test.transform(Test_Dataset_AL['hair'])\n",
    "\n",
    "print(\"\\n\\n\\nTest Data after Label Encoding:\\n\")\n",
    "print(Test_Dataset_AL)"
   ]
  },
  {
   "cell_type": "markdown",
   "metadata": {},
   "source": [
    "___"
   ]
  },
  {
   "cell_type": "markdown",
   "metadata": {},
   "source": [
    "___"
   ]
  },
  {
   "cell_type": "markdown",
   "metadata": {},
   "source": [
    "## Train ML Algorithms using Train Data\n",
    "___"
   ]
  },
  {
   "cell_type": "code",
   "execution_count": 18,
   "metadata": {},
   "outputs": [
    {
     "name": "stdout",
     "output_type": "stream",
     "text": [
      "\t\t\tLogistic Regression:\n",
      "\n",
      "Parameters and their values:\n",
      "\n",
      "LogisticRegression(C=1.0, class_weight=None, dual=False, fit_intercept=True,\n",
      "          intercept_scaling=1, max_iter=100, multi_class='ovr', n_jobs=1,\n",
      "          penalty='l2', random_state=None, solver='liblinear', tol=0.0001,\n",
      "          verbose=0, warm_start=False)\n",
      "\n",
      "\n",
      "\t\t\tRandom Forest Classifier:\n",
      "\n",
      "Parameters and their values:\n",
      "\n",
      "RandomForestClassifier(bootstrap=True, class_weight=None, criterion='gini',\n",
      "            max_depth=None, max_features='auto', max_leaf_nodes=None,\n",
      "            min_impurity_decrease=0.0, min_impurity_split=None,\n",
      "            min_samples_leaf=1, min_samples_split=2,\n",
      "            min_weight_fraction_leaf=0.0, n_estimators=10, n_jobs=1,\n",
      "            oob_score=False, random_state=None, verbose=0,\n",
      "            warm_start=False)\n",
      "\n",
      "\n",
      "\t\t\tLinear SVC:\n",
      "\n",
      "Parameters and their values:\n",
      "\n",
      "LinearSVC(C=1.0, class_weight=None, dual=True, fit_intercept=True,\n",
      "     intercept_scaling=1, loss='squared_hinge', max_iter=1000,\n",
      "     multi_class='ovr', penalty='l2', random_state=None, tol=0.0001,\n",
      "     verbose=0)\n",
      "\n",
      "\n",
      "\t\t\tBernoulli NB:\n",
      "\n",
      "Parameters and their values:\n",
      "\n",
      "BernoulliNB(alpha=1.0, binarize=0.0, class_prior=None, fit_prior=True)\n"
     ]
    }
   ],
   "source": [
    "print(\"\\t\\t\\tLogistic Regression:\\n\\nParameters and their values:\\n\")\n",
    "lr=LogisticRegression()\n",
    "print(lr)\n",
    "\n",
    "print(\"\\n\\n\\t\\t\\tRandom Forest Classifier:\\n\\nParameters and their values:\\n\")\n",
    "rfc=RandomForestClassifier()\n",
    "print(rfc)\n",
    "\n",
    "print(\"\\n\\n\\t\\t\\tLinear SVC:\\n\\nParameters and their values:\\n\")\n",
    "lsvc=LinearSVC()\n",
    "print(lsvc)\n",
    "\n",
    "print(\"\\n\\n\\t\\t\\tBernoulli NB:\\n\\nParameters and their values:\\n\")\n",
    "bnb=BernoulliNB()\n",
    "print(bnb)"
   ]
  },
  {
   "cell_type": "code",
   "execution_count": 19,
   "metadata": {},
   "outputs": [],
   "source": [
    "TrainX=Train_Dataset_AL[['height','weight','hair','beard','scarf']] \n",
    "TrainY=Train_Dataset_AL[['gender']]\n",
    "\n",
    "TestX=Test_Dataset_AL[['height','weight','hair','beard','scarf']] \n",
    "TestY=Test_Dataset_AL[['gender']]"
   ]
  },
  {
   "cell_type": "markdown",
   "metadata": {},
   "source": [
    "___\n",
    "___"
   ]
  },
  {
   "cell_type": "markdown",
   "metadata": {},
   "source": [
    "## Evaluate ML Algorithms using Test Data\n",
    "___"
   ]
  },
  {
   "cell_type": "code",
   "execution_count": 20,
   "metadata": {},
   "outputs": [
    {
     "name": "stdout",
     "output_type": "stream",
     "text": [
      "Prediction using LogisticRegression:\n",
      "\n",
      "\n",
      "   height  weight    hair beard scarf  gender\n",
      "0   179.1     185    Long   Yes    No    Male\n",
      "1   160.5     130   Short    No    No  Female\n",
      "2   177.8     160    Bald    No    No    Male\n",
      "3   161.1     100  Medium    No    No  Female\n",
      "\n",
      "\n",
      "predicted_gender:\n",
      "\n",
      "['Male' 'Female' 'Female' 'Female']\n",
      "\n",
      "\n",
      "Accuracy score = 0.75\n"
     ]
    },
    {
     "name": "stderr",
     "output_type": "stream",
     "text": [
      "D:\\Anaconda3\\lib\\site-packages\\sklearn\\preprocessing\\label.py:151: DeprecationWarning: The truth value of an empty array is ambiguous. Returning False, but in future this will result in an error. Use `array.size > 0` to check that an array is not empty.\n",
      "  if diff:\n"
     ]
    }
   ],
   "source": [
    "print(\"Prediction using LogisticRegression:\\n\\n\")\n",
    "lr.fit(TrainX, TrainY.values.ravel())\n",
    "Lr_Prediction=lr.predict(TestX)\n",
    "\n",
    "print(Test_Dataset)\n",
    "print(\"\\n\\npredicted_gender:\\n\")\n",
    "print(Gender_Fit.inverse_transform(Lr_Prediction))\n",
    "\n",
    "Lr_AS=lr.score(TestX,TestY)\n",
    "print(\"\\n\\nAccuracy score =\",Lr_AS)"
   ]
  },
  {
   "cell_type": "code",
   "execution_count": 21,
   "metadata": {},
   "outputs": [
    {
     "name": "stdout",
     "output_type": "stream",
     "text": [
      "Prediction using RandomForestClassifier:\n",
      "\n",
      "\n",
      "   height  weight    hair beard scarf  gender\n",
      "0   179.1     185    Long   Yes    No    Male\n",
      "1   160.5     130   Short    No    No  Female\n",
      "2   177.8     160    Bald    No    No    Male\n",
      "3   161.1     100  Medium    No    No  Female\n",
      "\n",
      "\n",
      "predicted_gender:\n",
      "\n",
      "['Male' 'Female' 'Male' 'Female']\n",
      "\n",
      "\n",
      "Accuracy score = 1.0\n"
     ]
    },
    {
     "name": "stderr",
     "output_type": "stream",
     "text": [
      "D:\\Anaconda3\\lib\\site-packages\\sklearn\\preprocessing\\label.py:151: DeprecationWarning: The truth value of an empty array is ambiguous. Returning False, but in future this will result in an error. Use `array.size > 0` to check that an array is not empty.\n",
      "  if diff:\n"
     ]
    }
   ],
   "source": [
    "print(\"Prediction using RandomForestClassifier:\\n\\n\")\n",
    "rfc.fit(TrainX, TrainY.values.ravel())\n",
    "Rfc_Prediction=rfc.predict(TestX)\n",
    "\n",
    "print(Test_Dataset)\n",
    "print(\"\\n\\npredicted_gender:\\n\")\n",
    "print(Gender_Fit.inverse_transform(Rfc_Prediction))\n",
    "\n",
    "Rfc_AS=rfc.score(TestX,TestY)\n",
    "print(\"\\n\\nAccuracy score =\",Rfc_AS)"
   ]
  },
  {
   "cell_type": "code",
   "execution_count": 22,
   "metadata": {},
   "outputs": [
    {
     "name": "stdout",
     "output_type": "stream",
     "text": [
      "Prediction using LinearSVC:\n",
      "\n",
      "\n",
      "   height  weight    hair beard scarf  gender\n",
      "0   179.1     185    Long   Yes    No    Male\n",
      "1   160.5     130   Short    No    No  Female\n",
      "2   177.8     160    Bald    No    No    Male\n",
      "3   161.1     100  Medium    No    No  Female\n",
      "\n",
      "\n",
      "predicted_gender:\n",
      "\n",
      "['Male' 'Female' 'Female' 'Female']\n",
      "\n",
      "\n",
      "Accuracy score = 0.75\n"
     ]
    },
    {
     "name": "stderr",
     "output_type": "stream",
     "text": [
      "D:\\Anaconda3\\lib\\site-packages\\sklearn\\preprocessing\\label.py:151: DeprecationWarning: The truth value of an empty array is ambiguous. Returning False, but in future this will result in an error. Use `array.size > 0` to check that an array is not empty.\n",
      "  if diff:\n"
     ]
    }
   ],
   "source": [
    "print(\"Prediction using LinearSVC:\\n\\n\")\n",
    "lsvc.fit(TrainX, TrainY.values.ravel())\n",
    "Lsvc_Prediction=lsvc.predict(TestX)\n",
    "\n",
    "print(Test_Dataset)\n",
    "print(\"\\n\\npredicted_gender:\\n\")\n",
    "print(Gender_Fit.inverse_transform(Lsvc_Prediction))\n",
    "\n",
    "Lsvc_AS=lsvc.score(TestX,TestY)\n",
    "print(\"\\n\\nAccuracy score =\",Lsvc_AS)"
   ]
  },
  {
   "cell_type": "code",
   "execution_count": 23,
   "metadata": {},
   "outputs": [
    {
     "name": "stdout",
     "output_type": "stream",
     "text": [
      "Prediction using BernoulliNB:\n",
      "\n",
      "\n",
      "   height  weight    hair beard scarf  gender\n",
      "0   179.1     185    Long   Yes    No    Male\n",
      "1   160.5     130   Short    No    No  Female\n",
      "2   177.8     160    Bald    No    No    Male\n",
      "3   161.1     100  Medium    No    No  Female\n",
      "\n",
      "\n",
      "predicted_gender:\n",
      "\n",
      "['Male' 'Female' 'Male' 'Female']\n",
      "\n",
      "\n",
      "Accuracy score = 1.0\n"
     ]
    },
    {
     "name": "stderr",
     "output_type": "stream",
     "text": [
      "D:\\Anaconda3\\lib\\site-packages\\sklearn\\preprocessing\\label.py:151: DeprecationWarning: The truth value of an empty array is ambiguous. Returning False, but in future this will result in an error. Use `array.size > 0` to check that an array is not empty.\n",
      "  if diff:\n"
     ]
    }
   ],
   "source": [
    "print(\"Prediction using BernoulliNB:\\n\\n\")\n",
    "bnb.fit(TrainX, TrainY.values.ravel())\n",
    "Bnb_Prediction=bnb.predict(TestX)\n",
    "\n",
    "print(Test_Dataset)\n",
    "print(\"\\n\\npredicted_gender:\\n\")\n",
    "print(Gender_Fit.inverse_transform(Bnb_Prediction))\n",
    "\n",
    "Bnb_AS=bnb.score(TestX,TestY)\n",
    "print(\"\\n\\nAccuracy score =\",Bnb_AS)"
   ]
  },
  {
   "cell_type": "markdown",
   "metadata": {},
   "source": [
    "## Selection of Best Model\n",
    "___"
   ]
  },
  {
   "cell_type": "code",
   "execution_count": 24,
   "metadata": {},
   "outputs": [
    {
     "name": "stdout",
     "output_type": "stream",
     "text": [
      "Detailed Performance of all the models:\n",
      "\n",
      "        Model          Accuracy\n",
      "---------------------- --------\n",
      "    LogisticRegression     0.75\n",
      "RandomForestClassifier      1.0\n",
      "             LinearSVC     0.75\n",
      "           BernoulliNB      1.0\n"
     ]
    }
   ],
   "source": [
    "DR=[('LogisticRegression',Lr_AS),('RandomForestClassifier',Rfc_AS),\n",
    "   ('LinearSVC',Lsvc_AS),('BernoulliNB',Bnb_AS),]\n",
    "t = Table(rows=DR, names=('Model', 'Accuracy'))\n",
    "print(\"Detailed Performance of all the models:\\n\")\n",
    "print(t)"
   ]
  },
  {
   "cell_type": "code",
   "execution_count": 25,
   "metadata": {},
   "outputs": [
    {
     "name": "stdout",
     "output_type": "stream",
     "text": [
      "Best Model:\n",
      "\n",
      "        Model          Accuracy\n",
      "---------------------- --------\n",
      "RandomForestClassifier      1.0\n"
     ]
    }
   ],
   "source": [
    "Best_Model=''\n",
    "BM_Arr={'LogisticRegression':Lr_AS,'RandomForestClassifier':Rfc_AS,\n",
    "        'LinearSVC':Lsvc_AS,'BernoulliNB':Bnb_AS}\n",
    "\n",
    "for i,j in BM_Arr.items():\n",
    "    if j==1.0:\n",
    "        Best_Model=i\n",
    "        break\n",
    "\n",
    "t2 = Table(rows=[(Best_Model,j)], names=('Model', 'Accuracy'))\n",
    "print(\"Best Model:\\n\")\n",
    "print (t2)"
   ]
  },
  {
   "cell_type": "markdown",
   "metadata": {},
   "source": [
    "___"
   ]
  },
  {
   "cell_type": "markdown",
   "metadata": {},
   "source": [
    "___"
   ]
  },
  {
   "cell_type": "markdown",
   "metadata": {},
   "source": [
    "___"
   ]
  },
  {
   "cell_type": "markdown",
   "metadata": {},
   "source": [
    "___"
   ]
  },
  {
   "cell_type": "markdown",
   "metadata": {},
   "source": [
    "## Application Phase\n",
    "___\n",
    "\n",
    "### Combine Data(Train+Test)"
   ]
  },
  {
   "cell_type": "code",
   "execution_count": 26,
   "metadata": {},
   "outputs": [
    {
     "name": "stdout",
     "output_type": "stream",
     "text": [
      "All Features in form of DataFrame:\n",
      "\n"
     ]
    },
    {
     "data": {
      "text/html": [
       "<div>\n",
       "<style scoped>\n",
       "    .dataframe tbody tr th:only-of-type {\n",
       "        vertical-align: middle;\n",
       "    }\n",
       "\n",
       "    .dataframe tbody tr th {\n",
       "        vertical-align: top;\n",
       "    }\n",
       "\n",
       "    .dataframe thead th {\n",
       "        text-align: right;\n",
       "    }\n",
       "</style>\n",
       "<table border=\"1\" class=\"dataframe\">\n",
       "  <thead>\n",
       "    <tr style=\"text-align: right;\">\n",
       "      <th></th>\n",
       "      <th>height</th>\n",
       "      <th>weight</th>\n",
       "      <th>hair</th>\n",
       "      <th>beard</th>\n",
       "      <th>scarf</th>\n",
       "      <th>gender</th>\n",
       "    </tr>\n",
       "  </thead>\n",
       "  <tbody>\n",
       "    <tr>\n",
       "      <th>0</th>\n",
       "      <td>180.30</td>\n",
       "      <td>196</td>\n",
       "      <td>0</td>\n",
       "      <td>1</td>\n",
       "      <td>0</td>\n",
       "      <td>1</td>\n",
       "    </tr>\n",
       "    <tr>\n",
       "      <th>1</th>\n",
       "      <td>170.00</td>\n",
       "      <td>120</td>\n",
       "      <td>1</td>\n",
       "      <td>0</td>\n",
       "      <td>0</td>\n",
       "      <td>0</td>\n",
       "    </tr>\n",
       "    <tr>\n",
       "      <th>2</th>\n",
       "      <td>178.50</td>\n",
       "      <td>200</td>\n",
       "      <td>3</td>\n",
       "      <td>0</td>\n",
       "      <td>0</td>\n",
       "      <td>1</td>\n",
       "    </tr>\n",
       "    <tr>\n",
       "      <th>3</th>\n",
       "      <td>163.40</td>\n",
       "      <td>110</td>\n",
       "      <td>2</td>\n",
       "      <td>0</td>\n",
       "      <td>1</td>\n",
       "      <td>0</td>\n",
       "    </tr>\n",
       "    <tr>\n",
       "      <th>4</th>\n",
       "      <td>175.22</td>\n",
       "      <td>220</td>\n",
       "      <td>3</td>\n",
       "      <td>1</td>\n",
       "      <td>0</td>\n",
       "      <td>1</td>\n",
       "    </tr>\n",
       "    <tr>\n",
       "      <th>5</th>\n",
       "      <td>165.00</td>\n",
       "      <td>150</td>\n",
       "      <td>2</td>\n",
       "      <td>0</td>\n",
       "      <td>1</td>\n",
       "      <td>0</td>\n",
       "    </tr>\n",
       "    <tr>\n",
       "      <th>0</th>\n",
       "      <td>179.10</td>\n",
       "      <td>185</td>\n",
       "      <td>1</td>\n",
       "      <td>1</td>\n",
       "      <td>0</td>\n",
       "      <td>1</td>\n",
       "    </tr>\n",
       "    <tr>\n",
       "      <th>1</th>\n",
       "      <td>160.50</td>\n",
       "      <td>130</td>\n",
       "      <td>3</td>\n",
       "      <td>0</td>\n",
       "      <td>0</td>\n",
       "      <td>0</td>\n",
       "    </tr>\n",
       "    <tr>\n",
       "      <th>2</th>\n",
       "      <td>177.80</td>\n",
       "      <td>160</td>\n",
       "      <td>0</td>\n",
       "      <td>0</td>\n",
       "      <td>0</td>\n",
       "      <td>1</td>\n",
       "    </tr>\n",
       "    <tr>\n",
       "      <th>3</th>\n",
       "      <td>161.10</td>\n",
       "      <td>100</td>\n",
       "      <td>2</td>\n",
       "      <td>0</td>\n",
       "      <td>0</td>\n",
       "      <td>0</td>\n",
       "    </tr>\n",
       "  </tbody>\n",
       "</table>\n",
       "</div>"
      ],
      "text/plain": [
       "   height  weight  hair  beard  scarf  gender\n",
       "0  180.30     196     0      1      0       1\n",
       "1  170.00     120     1      0      0       0\n",
       "2  178.50     200     3      0      0       1\n",
       "3  163.40     110     2      0      1       0\n",
       "4  175.22     220     3      1      0       1\n",
       "5  165.00     150     2      0      1       0\n",
       "0  179.10     185     1      1      0       1\n",
       "1  160.50     130     3      0      0       0\n",
       "2  177.80     160     0      0      0       1\n",
       "3  161.10     100     2      0      0       0"
      ]
     },
     "execution_count": 26,
     "metadata": {},
     "output_type": "execute_result"
    }
   ],
   "source": [
    "print(\"All Features in form of DataFrame:\\n\")\n",
    "\n",
    "Combined_Dataset=pd.concat([Train_Dataset_AL,Test_Dataset_AL])\n",
    "Combined_Dataset"
   ]
  },
  {
   "cell_type": "markdown",
   "metadata": {},
   "source": [
    "___"
   ]
  },
  {
   "cell_type": "markdown",
   "metadata": {},
   "source": [
    "___"
   ]
  },
  {
   "cell_type": "markdown",
   "metadata": {},
   "source": [
    "___"
   ]
  },
  {
   "cell_type": "markdown",
   "metadata": {},
   "source": [
    "___"
   ]
  },
  {
   "cell_type": "markdown",
   "metadata": {},
   "source": [
    "___"
   ]
  },
  {
   "cell_type": "markdown",
   "metadata": {},
   "source": [
    "### Train Best Model on All Data"
   ]
  },
  {
   "cell_type": "code",
   "execution_count": 27,
   "metadata": {},
   "outputs": [
    {
     "data": {
      "text/plain": [
       "RandomForestClassifier(bootstrap=True, class_weight=None, criterion='gini',\n",
       "            max_depth=None, max_features='auto', max_leaf_nodes=None,\n",
       "            min_impurity_decrease=0.0, min_impurity_split=None,\n",
       "            min_samples_leaf=1, min_samples_split=2,\n",
       "            min_weight_fraction_leaf=0.0, n_estimators=10, n_jobs=1,\n",
       "            oob_score=False, random_state=None, verbose=0,\n",
       "            warm_start=False)"
      ]
     },
     "execution_count": 27,
     "metadata": {},
     "output_type": "execute_result"
    }
   ],
   "source": [
    "CombinedX=Combined_Dataset[['height','weight','hair','beard','scarf']] \n",
    "CombinedY=Combined_Dataset[['gender']]\n",
    "\n",
    "rfc.fit(CombinedX,CombinedY.values.ravel())"
   ]
  },
  {
   "cell_type": "markdown",
   "metadata": {},
   "source": [
    "### Save the Trained Model as Pickle File"
   ]
  },
  {
   "cell_type": "code",
   "execution_count": 28,
   "metadata": {},
   "outputs": [],
   "source": [
    "Combined_Rfc='C:\\\\Users\\\\AWAB\\\\Desktop\\\\Gender Identification\\\\combined_rfc.sav'\n",
    "pickle.dump(rfc,open(Combined_Rfc,'wb'))"
   ]
  },
  {
   "cell_type": "markdown",
   "metadata": {},
   "source": [
    "___"
   ]
  },
  {
   "cell_type": "markdown",
   "metadata": {},
   "source": [
    "## Make Prediction on Unseen/New Data\n",
    "___\n",
    "\n",
    "### Load the Trained Model"
   ]
  },
  {
   "cell_type": "code",
   "execution_count": 29,
   "metadata": {},
   "outputs": [],
   "source": [
    "rfc = pickle.load(open(Combined_Rfc, 'rb'))"
   ]
  },
  {
   "cell_type": "markdown",
   "metadata": {},
   "source": [
    "___"
   ]
  },
  {
   "cell_type": "markdown",
   "metadata": {},
   "source": [
    "___"
   ]
  },
  {
   "cell_type": "markdown",
   "metadata": {},
   "source": [
    "___"
   ]
  },
  {
   "cell_type": "markdown",
   "metadata": {},
   "source": [
    "### Take Input from User"
   ]
  },
  {
   "cell_type": "code",
   "execution_count": 39,
   "metadata": {},
   "outputs": [
    {
     "name": "stdout",
     "output_type": "stream",
     "text": [
      "What is your height? (centimeter) 179.10\n",
      "What is your weight? (kg) 185\n",
      "What is your hair length? (Bald/Long/Short/Medium) Long\n",
      "Do you have a beard? (Yes/No) Yes\n",
      "Do you wear a scarf? (Yes/No) No\n"
     ]
    }
   ],
   "source": [
    "height = input(\"What is your height? (centimeter) \")\n",
    "weight = input(\"What is your weight? (kg) \")\n",
    "hair = input(\"What is your hair length? (Bald/Long/Short/Medium) \")\n",
    "beard = input(\"Do you have a beard? (Yes/No) \")\n",
    "scarf = input(\"Do you wear a scarf? (Yes/No) \")"
   ]
  },
  {
   "cell_type": "markdown",
   "metadata": {},
   "source": [
    "### Conver User Input into Feature Vector"
   ]
  },
  {
   "cell_type": "code",
   "execution_count": 40,
   "metadata": {},
   "outputs": [
    {
     "data": {
      "text/html": [
       "<div>\n",
       "<style scoped>\n",
       "    .dataframe tbody tr th:only-of-type {\n",
       "        vertical-align: middle;\n",
       "    }\n",
       "\n",
       "    .dataframe tbody tr th {\n",
       "        vertical-align: top;\n",
       "    }\n",
       "\n",
       "    .dataframe thead th {\n",
       "        text-align: right;\n",
       "    }\n",
       "</style>\n",
       "<table border=\"1\" class=\"dataframe\">\n",
       "  <thead>\n",
       "    <tr style=\"text-align: right;\">\n",
       "      <th></th>\n",
       "      <th>height</th>\n",
       "      <th>weight</th>\n",
       "      <th>hair</th>\n",
       "      <th>beard</th>\n",
       "      <th>scarf</th>\n",
       "    </tr>\n",
       "  </thead>\n",
       "  <tbody>\n",
       "    <tr>\n",
       "      <th>0</th>\n",
       "      <td>179.1</td>\n",
       "      <td>185.0</td>\n",
       "      <td>Long</td>\n",
       "      <td>Yes</td>\n",
       "      <td>No</td>\n",
       "    </tr>\n",
       "  </tbody>\n",
       "</table>\n",
       "</div>"
      ],
      "text/plain": [
       "   height  weight  hair beard scarf\n",
       "0   179.1   185.0  Long   Yes    No"
      ]
     },
     "execution_count": 40,
     "metadata": {},
     "output_type": "execute_result"
    }
   ],
   "source": [
    "FV = {'height':[float(height)], 'weight':[float(weight)], 'hair':[hair],\n",
    "      'beard':[beard], 'scarf':[scarf]}\n",
    "\n",
    "Feature_Vector=pd.DataFrame(FV)\n",
    "Feature_Vector"
   ]
  },
  {
   "cell_type": "code",
   "execution_count": 41,
   "metadata": {},
   "outputs": [
    {
     "name": "stdout",
     "output_type": "stream",
     "text": [
      "Encoded DataFrame form:\n",
      "\n",
      "   height  weight  hair  beard  scarf\n",
      "0   179.1   185.0     1      1      0\n"
     ]
    }
   ],
   "source": [
    "if scarf=='No':\n",
    "    Feature_Vector['scarf']=0\n",
    "else:\n",
    "    Feature_Vector['scarf']=1\n",
    "\n",
    "if beard=='No':\n",
    "    Feature_Vector['beard']=0\n",
    "else:\n",
    "    Feature_Vector['beard']=1\n",
    "\n",
    "if hair=='Bald':\n",
    "    Feature_Vector['hair']=0\n",
    "elif hair=='Long':\n",
    "    Feature_Vector['hair']=1\n",
    "elif hair=='Short':\n",
    "    Feature_Vector['hair']=2\n",
    "else:\n",
    "    Feature_Vector['hair']=3\n",
    "\n",
    "print(\"Encoded DataFrame form:\\n\")\n",
    "print(Feature_Vector)"
   ]
  },
  {
   "cell_type": "markdown",
   "metadata": {},
   "source": [
    "### Apply Trained Model on Feature Vector of Unseen Data and Output Prediction to User"
   ]
  },
  {
   "cell_type": "code",
   "execution_count": 42,
   "metadata": {},
   "outputs": [
    {
     "name": "stdout",
     "output_type": "stream",
     "text": [
      "Male\n"
     ]
    }
   ],
   "source": [
    "Unseen_Prediction = rfc.predict(Feature_Vector)\n",
    "if Unseen_Prediction == 1:\n",
    "    print(\"Male\")\n",
    "else:\n",
    "    print(\"Female\")"
   ]
  }
 ],
 "metadata": {
  "kernelspec": {
   "display_name": "Python 3",
   "language": "python",
   "name": "python3"
  },
  "language_info": {
   "codemirror_mode": {
    "name": "ipython",
    "version": 3
   },
   "file_extension": ".py",
   "mimetype": "text/x-python",
   "name": "python",
   "nbconvert_exporter": "python",
   "pygments_lexer": "ipython3",
   "version": "3.6.5"
  }
 },
 "nbformat": 4,
 "nbformat_minor": 2
}
